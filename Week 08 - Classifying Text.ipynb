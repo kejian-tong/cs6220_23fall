{
 "cells": [
  {
   "cell_type": "markdown",
   "metadata": {},
   "source": [
    "# Sources\n",
    "\n",
    "1. http://radimrehurek.com/data_science_python/\n",
    "2. http://zacstewart.com/2015/04/28/document-classification-with-scikit-learn.html\n",
    "3. http://scikit-learn.org/stable/tutorial/text_analytics/working_with_text_data.html\n",
    "4. http://gabrielelanaro.github.io/blog/2015/07/11/natural-language-processing-python.html\n",
    "5. https://archive.ics.uci.edu/ml/datasets/SMS+Spam+Collection#"
   ]
  },
  {
   "cell_type": "code",
   "execution_count": 1,
   "metadata": {},
   "outputs": [
    {
     "name": "stdout",
     "output_type": "stream",
     "text": [
      "Populating the interactive namespace from numpy and matplotlib\n"
     ]
    }
   ],
   "source": [
    "%pylab inline"
   ]
  },
  {
   "cell_type": "code",
   "execution_count": 2,
   "metadata": {},
   "outputs": [],
   "source": [
    "import warnings\n",
    "warnings.filterwarnings('ignore')"
   ]
  },
  {
   "cell_type": "markdown",
   "metadata": {},
   "source": [
    "# Import methods"
   ]
  },
  {
   "cell_type": "code",
   "execution_count": 3,
   "metadata": {},
   "outputs": [],
   "source": [
    "import pandas as pd\n",
    "from sklearn.feature_extraction.text import CountVectorizer, TfidfVectorizer\n",
    "from sklearn.naive_bayes import MultinomialNB\n",
    "from sklearn.model_selection import KFold, learning_curve, ShuffleSplit\n",
    "from sklearn.metrics import *\n",
    "from sklearn.pipeline import Pipeline\n",
    "from sklearn.feature_selection import SelectKBest, f_regression\n",
    "from sklearn.linear_model import LogisticRegression\n",
    "import matplotlib.pyplot as plt\n",
    "matplotlib.style.use('ggplot')"
   ]
  },
  {
   "cell_type": "markdown",
   "metadata": {},
   "source": [
    "# Load SPAM Dataset"
   ]
  },
  {
   "cell_type": "code",
   "execution_count": 4,
   "metadata": {},
   "outputs": [],
   "source": [
    "df = pd.read_csv('./data/SMSSpamCollection', sep='\\t', names=['class', 'text'])"
   ]
  },
  {
   "cell_type": "markdown",
   "metadata": {},
   "source": [
    "# What is in this data?"
   ]
  },
  {
   "cell_type": "code",
   "execution_count": 5,
   "metadata": {},
   "outputs": [
    {
     "data": {
      "text/html": [
       "<div>\n",
       "<style scoped>\n",
       "    .dataframe tbody tr th:only-of-type {\n",
       "        vertical-align: middle;\n",
       "    }\n",
       "\n",
       "    .dataframe tbody tr th {\n",
       "        vertical-align: top;\n",
       "    }\n",
       "\n",
       "    .dataframe thead th {\n",
       "        text-align: right;\n",
       "    }\n",
       "</style>\n",
       "<table border=\"1\" class=\"dataframe\">\n",
       "  <thead>\n",
       "    <tr style=\"text-align: right;\">\n",
       "      <th></th>\n",
       "      <th>class</th>\n",
       "      <th>text</th>\n",
       "    </tr>\n",
       "  </thead>\n",
       "  <tbody>\n",
       "    <tr>\n",
       "      <th>0</th>\n",
       "      <td>ham</td>\n",
       "      <td>Go until jurong point, crazy.. Available only ...</td>\n",
       "    </tr>\n",
       "    <tr>\n",
       "      <th>1</th>\n",
       "      <td>ham</td>\n",
       "      <td>Ok lar... Joking wif u oni...</td>\n",
       "    </tr>\n",
       "    <tr>\n",
       "      <th>2</th>\n",
       "      <td>spam</td>\n",
       "      <td>Free entry in 2 a wkly comp to win FA Cup fina...</td>\n",
       "    </tr>\n",
       "    <tr>\n",
       "      <th>3</th>\n",
       "      <td>ham</td>\n",
       "      <td>U dun say so early hor... U c already then say...</td>\n",
       "    </tr>\n",
       "    <tr>\n",
       "      <th>4</th>\n",
       "      <td>ham</td>\n",
       "      <td>Nah I don't think he goes to usf, he lives aro...</td>\n",
       "    </tr>\n",
       "  </tbody>\n",
       "</table>\n",
       "</div>"
      ],
      "text/plain": [
       "  class                                               text\n",
       "0   ham  Go until jurong point, crazy.. Available only ...\n",
       "1   ham                      Ok lar... Joking wif u oni...\n",
       "2  spam  Free entry in 2 a wkly comp to win FA Cup fina...\n",
       "3   ham  U dun say so early hor... U c already then say...\n",
       "4   ham  Nah I don't think he goes to usf, he lives aro..."
      ]
     },
     "execution_count": 5,
     "metadata": {},
     "output_type": "execute_result"
    }
   ],
   "source": [
    "df.head()"
   ]
  },
  {
   "cell_type": "code",
   "execution_count": 6,
   "metadata": {},
   "outputs": [
    {
     "data": {
      "text/html": [
       "<div>\n",
       "<style scoped>\n",
       "    .dataframe tbody tr th:only-of-type {\n",
       "        vertical-align: middle;\n",
       "    }\n",
       "\n",
       "    .dataframe tbody tr th {\n",
       "        vertical-align: top;\n",
       "    }\n",
       "\n",
       "    .dataframe thead tr th {\n",
       "        text-align: left;\n",
       "    }\n",
       "\n",
       "    .dataframe thead tr:last-of-type th {\n",
       "        text-align: right;\n",
       "    }\n",
       "</style>\n",
       "<table border=\"1\" class=\"dataframe\">\n",
       "  <thead>\n",
       "    <tr>\n",
       "      <th></th>\n",
       "      <th colspan=\"4\" halign=\"left\">text</th>\n",
       "    </tr>\n",
       "    <tr>\n",
       "      <th></th>\n",
       "      <th>count</th>\n",
       "      <th>unique</th>\n",
       "      <th>top</th>\n",
       "      <th>freq</th>\n",
       "    </tr>\n",
       "    <tr>\n",
       "      <th>class</th>\n",
       "      <th></th>\n",
       "      <th></th>\n",
       "      <th></th>\n",
       "      <th></th>\n",
       "    </tr>\n",
       "  </thead>\n",
       "  <tbody>\n",
       "    <tr>\n",
       "      <th>ham</th>\n",
       "      <td>4825</td>\n",
       "      <td>4516</td>\n",
       "      <td>Sorry, I'll call later</td>\n",
       "      <td>30</td>\n",
       "    </tr>\n",
       "    <tr>\n",
       "      <th>spam</th>\n",
       "      <td>747</td>\n",
       "      <td>653</td>\n",
       "      <td>Please call our customer service representativ...</td>\n",
       "      <td>4</td>\n",
       "    </tr>\n",
       "  </tbody>\n",
       "</table>\n",
       "</div>"
      ],
      "text/plain": [
       "       text                                                               \n",
       "      count unique                                                top freq\n",
       "class                                                                     \n",
       "ham    4825   4516                             Sorry, I'll call later   30\n",
       "spam    747    653  Please call our customer service representativ...    4"
      ]
     },
     "execution_count": 6,
     "metadata": {},
     "output_type": "execute_result"
    }
   ],
   "source": [
    "df.groupby('class').describe()"
   ]
  },
  {
   "cell_type": "code",
   "execution_count": 7,
   "metadata": {},
   "outputs": [],
   "source": [
    "df['text_length'] = df['text'].map(lambda text: len(text))"
   ]
  },
  {
   "cell_type": "code",
   "execution_count": 8,
   "metadata": {},
   "outputs": [
    {
     "data": {
      "text/html": [
       "<div>\n",
       "<style scoped>\n",
       "    .dataframe tbody tr th:only-of-type {\n",
       "        vertical-align: middle;\n",
       "    }\n",
       "\n",
       "    .dataframe tbody tr th {\n",
       "        vertical-align: top;\n",
       "    }\n",
       "\n",
       "    .dataframe thead th {\n",
       "        text-align: right;\n",
       "    }\n",
       "</style>\n",
       "<table border=\"1\" class=\"dataframe\">\n",
       "  <thead>\n",
       "    <tr style=\"text-align: right;\">\n",
       "      <th></th>\n",
       "      <th>class</th>\n",
       "      <th>text</th>\n",
       "      <th>text_length</th>\n",
       "    </tr>\n",
       "  </thead>\n",
       "  <tbody>\n",
       "    <tr>\n",
       "      <th>0</th>\n",
       "      <td>ham</td>\n",
       "      <td>Go until jurong point, crazy.. Available only ...</td>\n",
       "      <td>111</td>\n",
       "    </tr>\n",
       "    <tr>\n",
       "      <th>1</th>\n",
       "      <td>ham</td>\n",
       "      <td>Ok lar... Joking wif u oni...</td>\n",
       "      <td>29</td>\n",
       "    </tr>\n",
       "    <tr>\n",
       "      <th>2</th>\n",
       "      <td>spam</td>\n",
       "      <td>Free entry in 2 a wkly comp to win FA Cup fina...</td>\n",
       "      <td>155</td>\n",
       "    </tr>\n",
       "    <tr>\n",
       "      <th>3</th>\n",
       "      <td>ham</td>\n",
       "      <td>U dun say so early hor... U c already then say...</td>\n",
       "      <td>49</td>\n",
       "    </tr>\n",
       "    <tr>\n",
       "      <th>4</th>\n",
       "      <td>ham</td>\n",
       "      <td>Nah I don't think he goes to usf, he lives aro...</td>\n",
       "      <td>61</td>\n",
       "    </tr>\n",
       "  </tbody>\n",
       "</table>\n",
       "</div>"
      ],
      "text/plain": [
       "  class                                               text  text_length\n",
       "0   ham  Go until jurong point, crazy.. Available only ...          111\n",
       "1   ham                      Ok lar... Joking wif u oni...           29\n",
       "2  spam  Free entry in 2 a wkly comp to win FA Cup fina...          155\n",
       "3   ham  U dun say so early hor... U c already then say...           49\n",
       "4   ham  Nah I don't think he goes to usf, he lives aro...           61"
      ]
     },
     "execution_count": 8,
     "metadata": {},
     "output_type": "execute_result"
    }
   ],
   "source": [
    "df.head()"
   ]
  },
  {
   "cell_type": "code",
   "execution_count": 9,
   "metadata": {},
   "outputs": [
    {
     "data": {
      "image/png": "[encoded data removed]",
      "text/plain": [
       "<Figure size 432x288 with 2 Axes>"
      ]
     },
     "metadata": {},
     "output_type": "display_data"
    }
   ],
   "source": [
    "# Adding a semi-column avoids that annoying <matplotlib.axes._subplots.AxesSubplot at 0x26358472da0> output\n",
    "df.hist(column='text_length', by='class');"
   ]
  },
  {
   "cell_type": "code",
   "execution_count": 10,
   "metadata": {},
   "outputs": [
    {
     "data": {
      "image/png": "[encoded data removed]",
      "text/plain": [
       "<Figure size 432x360 with 1 Axes>"
      ]
     },
     "metadata": {},
     "output_type": "display_data"
    }
   ],
   "source": [
    "df.boxplot(column='text_length', by='class', grid=False, figsize=(6,5));"
   ]
  },
  {
   "cell_type": "code",
   "execution_count": 11,
   "metadata": {},
   "outputs": [
    {
     "data": {
      "text/plain": [
       "count    5572.000000\n",
       "mean       80.489950\n",
       "std        59.942907\n",
       "min         2.000000\n",
       "25%        36.000000\n",
       "50%        62.000000\n",
       "75%       122.000000\n",
       "max       910.000000\n",
       "Name: text_length, dtype: float64"
      ]
     },
     "execution_count": 11,
     "metadata": {},
     "output_type": "execute_result"
    }
   ],
   "source": [
    "df.text_length.describe()"
   ]
  },
  {
   "cell_type": "code",
   "execution_count": 12,
   "metadata": {},
   "outputs": [
    {
     "data": {
      "text/plain": [
       "array([['ham',\n",
       "        \"For me the love should start with attraction.i should feel that I need her every time around me.she should be the first thing which comes in my thoughts.I would start the day and end it with her.she should be there every time I dream.love will be then when my every breath has her name.my life should happen around her.my life will be named to her.I would cry for her.will give all my happiness and take all her sorrows.I will be ready to fight with anyone for her.I will be in love when I will be doing the craziest things for her.love will be when I don't have to proove anyone that my girl is the most beautiful lady on the whole planet.I will always be singing praises for her.love will be when I start up making chicken curry and end up makiing sambar.life will be the most beautiful then.will get every morning and thank god for the day because she is with me.I would like to say a lot..will tell later..\",\n",
       "        910]], dtype=object)"
      ]
     },
     "execution_count": 12,
     "metadata": {},
     "output_type": "execute_result"
    }
   ],
   "source": [
    "# Largest document\n",
    "df[df.text_length==910].values"
   ]
  },
  {
   "cell_type": "code",
   "execution_count": 13,
   "metadata": {},
   "outputs": [
    {
     "data": {
      "text/html": [
       "<div>\n",
       "<style scoped>\n",
       "    .dataframe tbody tr th:only-of-type {\n",
       "        vertical-align: middle;\n",
       "    }\n",
       "\n",
       "    .dataframe tbody tr th {\n",
       "        vertical-align: top;\n",
       "    }\n",
       "\n",
       "    .dataframe thead th {\n",
       "        text-align: right;\n",
       "    }\n",
       "</style>\n",
       "<table border=\"1\" class=\"dataframe\">\n",
       "  <thead>\n",
       "    <tr style=\"text-align: right;\">\n",
       "      <th></th>\n",
       "      <th>class</th>\n",
       "      <th>text</th>\n",
       "      <th>text_length</th>\n",
       "    </tr>\n",
       "  </thead>\n",
       "  <tbody>\n",
       "    <tr>\n",
       "      <th>1925</th>\n",
       "      <td>ham</td>\n",
       "      <td>Ok</td>\n",
       "      <td>2</td>\n",
       "    </tr>\n",
       "    <tr>\n",
       "      <th>3051</th>\n",
       "      <td>ham</td>\n",
       "      <td>Ok</td>\n",
       "      <td>2</td>\n",
       "    </tr>\n",
       "    <tr>\n",
       "      <th>4498</th>\n",
       "      <td>ham</td>\n",
       "      <td>Ok</td>\n",
       "      <td>2</td>\n",
       "    </tr>\n",
       "    <tr>\n",
       "      <th>5357</th>\n",
       "      <td>ham</td>\n",
       "      <td>Ok</td>\n",
       "      <td>2</td>\n",
       "    </tr>\n",
       "  </tbody>\n",
       "</table>\n",
       "</div>"
      ],
      "text/plain": [
       "     class text  text_length\n",
       "1925   ham   Ok            2\n",
       "3051   ham   Ok            2\n",
       "4498   ham   Ok            2\n",
       "5357   ham   Ok            2"
      ]
     },
     "execution_count": 13,
     "metadata": {},
     "output_type": "execute_result"
    }
   ],
   "source": [
    "# Smallest documents\n",
    "df[df.text_length==2]"
   ]
  },
  {
   "cell_type": "markdown",
   "metadata": {},
   "source": [
    "# Data Pre-processing"
   ]
  },
  {
   "cell_type": "markdown",
   "metadata": {},
   "source": [
    "[Count Vectorizer](http://scikit-learn.org/stable/modules/generated/sklearn.feature_extraction.text.CountVectorizer.html)"
   ]
  },
  {
   "cell_type": "code",
   "execution_count": 14,
   "metadata": {},
   "outputs": [],
   "source": [
    "# Define a count vectorizer\n",
    "count_vectorizer = CountVectorizer()\n",
    "counts = count_vectorizer.fit_transform(df['text'].values)\n",
    "\n",
    "# Define a tfidf vectorizer\n",
    "tfidf_vectorizer = TfidfVectorizer()\n",
    "tfidfs = tfidf_vectorizer.fit_transform(df['text'].values)"
   ]
  },
  {
   "cell_type": "code",
   "execution_count": 15,
   "metadata": {},
   "outputs": [
    {
     "data": {
      "text/plain": [
       "<5572x8713 sparse matrix of type '<class 'numpy.int64'>'\n",
       "\twith 74169 stored elements in Compressed Sparse Row format>"
      ]
     },
     "execution_count": 15,
     "metadata": {},
     "output_type": "execute_result"
    }
   ],
   "source": [
    "counts"
   ]
  },
  {
   "cell_type": "code",
   "execution_count": 16,
   "metadata": {
    "scrolled": true
   },
   "outputs": [
    {
     "data": {
      "text/plain": [
       "(1, 8713)"
      ]
     },
     "execution_count": 16,
     "metadata": {},
     "output_type": "execute_result"
    }
   ],
   "source": [
    "counts[0].todense().shape"
   ]
  },
  {
   "cell_type": "code",
   "execution_count": 17,
   "metadata": {},
   "outputs": [
    {
     "name": "stdout",
     "output_type": "stream",
     "text": [
      "[0, 0, 0, 0, 0, 0, 0, 0, 0, 0, 0, 0, 0, 0, 0, 0, 0, 0, 0, 0, 0, 0, 0, 0, 0, 0, 0, 0, 0, 0, 0, 0, 0, 0, 0, 0, 0, 0, 0, 0, 0, 0, 0, 0, 0, 0, 0, 0, 0, 0, 0, 0, 0, 0, 0, 0, 0, 0, 0, 0, 0, 0, 0, 0, 0, 0, 0, 0, 0, 0, 0, 0, 0, 0, 0, 0, 0, 0, 0, 0, 0, 0, 0, 0, 0, 0, 0, 0, 0, 0, 0, 0, 0, 0, 0, 0, 0, 0, 0, 0, 0, 0, 0, 0, 0, 0, 0, 0, 0, 0, 0, 0, 0, 0, 0, 0, 0, 0, 0, 0, 0, 0, 0, 0, 0, 0, 0, 0, 0, 0, 0, 0, 0, 0, 0, 0, 0, 0, 0, 0, 0, 0, 0, 0, 0, 0, 0, 0, 0, 0, 0, 0, 0, 0, 0, 0, 0, 0, 0, 0, 0, 0, 0, 0, 0, 0, 0, 0, 0, 0, 0, 0, 0, 0, 0, 0, 0, 0, 0, 0, 0, 0, 0, 0, 0, 0, 0, 0, 0, 0, 0, 0, 0, 0, 0, 0, 0, 0, 0, 0, 0, 0, 0, 0, 0, 0, 0, 0, 0, 0, 0, 0, 0, 0, 0, 0, 0, 0, 0, 0, 0, 0, 0, 0, 0, 0, 0, 0, 0, 0, 0, 0, 0, 0, 0, 0, 0, 0, 0, 0, 0, 0, 0, 0, 0, 0, 0, 0, 0, 0, 0, 0, 0, 0, 0, 0, 0, 0, 0, 0, 0, 0, 0, 0, 0, 0, 0, 0, 0, 0, 0, 0, 0, 0, 0, 0, 0, 0, 0, 0, 0, 0, 0, 0, 0, 0, 0, 0, 0, 0, 0, 0, 0, 0, 0, 0, 0, 0, 0, 0, 0, 0, 0, 0, 0, 0, 0, 0, 0, 0, 0, 0, 0, 0, 0, 0, 0, 0, 0, 0, 0, 0, 0, 0, 0, 0, 0, 0, 0, 0, 0, 0, 0, 0, 0, 0, 0, 0, 0, 0, 0, 0, 0, 0, 0, 0, 0, 0, 0, 0, 0, 0, 0, 0, 0, 0, 0, 0, 0, 0, 0, 0, 0, 0, 0, 0, 0, 0, 0, 0, 0, 0, 0, 0, 0, 0, 0, 0, 0, 0, 0, 0, 0, 0, 0, 0, 0, 0, 0, 0, 0, 0, 0, 0, 0, 0, 0, 0, 0, 0, 0, 0, 0, 0, 0, 0, 0, 0, 0, 0, 0, 0, 0, 0, 0, 0, 0, 0, 0, 0, 0, 0, 0, 0, 0, 0, 0, 0, 0, 0, 0, 0, 0, 0, 0, 0, 0, 0, 0, 0, 0, 0, 0, 0, 0, 0, 0, 0, 0, 0, 0, 0, 0, 0, 0, 0, 0, 0, 0, 0, 0, 0, 0, 0, 0, 0, 0, 0, 0, 0, 0, 0, 0, 0, 0, 0, 0, 0, 0, 0, 0, 0, 0, 0, 0, 0, 0, 0, 0, 0, 0, 0, 0, 0, 0, 0, 0, 0, 0, 0, 0, 0, 0, 0, 0, 0, 0, 0, 0, 0, 0, 0, 0, 0, 0, 0, 0, 0, 0, 0, 0, 0, 0, 0, 0, 0, 0, 0, 0, 0, 0, 0, 0, 0, 0, 0, 0, 0, 0, 0, 0, 0, 0, 0, 0, 0, 0, 0, 0, 0, 0, 0, 0, 0, 0, 0, 0, 0, 0, 0, 0, 0, 0, 0, 0, 0, 0, 0, 0, 0, 0, 0, 0, 0, 0, 0, 0, 0, 0, 0, 0, 0, 0, 0, 0, 0, 0, 0, 0, 0, 0, 0, 0, 0, 0, 0, 0, 0, 0, 0, 0, 0, 0, 0, 0, 0, 0, 0, 0, 0, 0, 0, 0, 0, 0, 0, 0, 0, 0, 0, 0, 0, 0, 0, 0, 0, 0, 0, 0, 0, 0, 0, 0, 0, 0, 0, 0, 0, 0, 0, 0, 0, 0, 0, 0, 0, 0, 0, 0, 0, 0, 0, 0, 0, 0, 0, 0, 0, 0, 0, 0, 0, 0, 0, 0, 0, 0, 0, 0, 0, 0, 0, 0, 0, 0, 0, 0, 0, 0, 0, 0, 0, 0, 0, 0, 0, 0, 0, 0, 0, 0, 0, 0, 0, 0, 0, 0, 0, 0, 0, 0, 0, 0, 0, 0, 0, 0, 0, 0, 0, 0, 0, 0, 0, 0, 0, 0, 0, 0, 0, 0, 0, 0, 0, 0, 0, 0, 0, 0, 0, 0, 0, 0, 0, 0, 0, 0, 0, 0, 0, 0, 0, 0, 0, 0, 0, 0, 0, 0, 0, 0, 0, 0, 0, 0, 0, 0, 0, 0, 0, 0, 0, 0, 0, 0, 0, 0, 0, 0, 0, 0, 0, 0, 0, 0, 0, 0, 0, 0, 0, 0, 0, 0, 0, 0, 0, 0, 0, 0, 0, 0, 0, 0, 0, 0, 0, 0, 0, 0, 0, 0, 0, 0, 0, 0, 0, 0, 0, 0, 0, 0, 0, 0, 0, 0, 0, 0, 0, 0, 0, 0, 0, 0, 0, 0, 0, 0, 0, 0, 0, 0, 0, 0, 0, 0, 0, 0, 0, 0, 0, 0, 0, 0, 0, 0, 0, 0, 0, 0, 0, 0, 0, 0, 0, 0, 0, 0, 0, 0, 0, 0, 0, 0, 0, 0, 0, 0, 0, 0, 0, 0, 0, 0, 0, 0, 0, 0, 0, 0, 0, 0, 0, 0, 0, 0, 0, 0, 0, 0, 0, 0, 0, 0, 0, 0, 0, 0, 0, 0, 0, 0, 0, 0, 0, 0, 0, 0, 0, 0, 0, 0, 0, 0, 0, 0, 0, 0, 0, 0, 0, 0, 0, 0, 0, 0, 0, 0, 0, 0, 0, 0, 0, 0, 0, 0, 0, 0, 0, 0, 0, 0, 0, 0, 0, 0, 0, 0, 0, 0, 0, 0, 0, 0, 0, 0, 0, 0, 0, 0, 0, 0, 0, 0, 0, 0, 0, 0, 0, 0, 0, 0, 0, 0, 0, 0, 0, 0, 0, 0, 0, 0, 0, 0, 0, 0, 0, 0, 0, 0, 0, 0, 0, 0, 0, 0, 0, 0, 0, 0, 0, 0, 0, 0, 0, 0, 0, 0, 0, 0, 0, 0, 0, 0, 0, 0, 0, 0, 0, 0, 0, 0, 0, 0, 0, 0, 0, 0, 0, 0, 0, 0, 0, 0, 0, 0, 0, 0, 0, 0, 0, 0, 0, 0, 0, 0, 0, 0, 0, 0, 0, 0, 0, 0, 0, 0, 0, 0, 0, 0, 0, 0, 0, 0, 0, 0, 0, 0, 0, 0, 0, 0, 0, 0, 0, 0, 0, 0, 0, 0, 0, 0, 0, 1, 0, 0, 0, 0, 0, 0, 0, 0, 0, 0, 0, 0, 0, 0, 0, 0, 0, 0, 0, 0, 0, 0, 0, 0, 0, 0, 0, 0, 0, 0, 0, 0, 0, 0, 0, 0, 0, 0, 0, 0, 0, 0, 0, 0, 0, 0, 0, 0, 0, 0, 0, 0, 0, 0, 0, 0, 0, 0, 0, 0, 0, 0, 0, 0, 0, 0, 0, 0, 0, 0, 0, 0, 0, 0, 0, 0, 0, 0, 0, 0, 0, 0, 0, 0, 0, 0, 0, 0, 0, 0, 0, 0, 0, 0, 0, 0, 0, 0, 0, 0, 0, 0, 0, 0, 0, 0, 0, 0, 0, 0, 0, 0, 0, 0, 0, 0, 0, 0, 0, 0, 0, 0, 0, 0, 0, 0, 0, 0, 0, 0, 0, 0, 0, 0, 0, 0, 0, 0, 0, 0, 0, 0, 0, 0, 0, 0, 0, 0, 0, 0, 0, 0, 0, 0, 0, 0, 0, 0, 0, 0, 0, 0, 0, 0, 0, 0, 0, 0, 0, 0, 0, 0, 0, 0, 0, 0, 0, 0, 0, 0, 0, 0, 0, 0, 0, 0, 0, 0, 0, 0, 0, 0, 0, 0, 0, 0, 0, 0, 0, 0, 0, 0, 0, 0, 0, 0, 0, 0, 0, 0, 0, 0, 0, 0, 0, 0, 0, 0, 0, 0, 0, 0, 0, 0, 0, 0, 0, 0, 0, 0, 0, 0, 0, 1, 0, 0, 0, 0, 0, 0, 0, 0, 0, 0, 0, 0, 0, 0, 0, 0, 0, 0, 0, 0, 0, 0, 0, 0, 0, 0, 0, 0, 0, 0, 0, 0, 0, 0, 0, 0, 0, 0, 0, 0, 0, 0, 0, 0, 0, 0, 0, 0, 0, 0, 0, 0, 0, 0, 0, 0, 0, 0, 0, 0, 0, 0, 0, 0, 0, 0, 0, 0, 0, 0, 0, 0, 0, 0, 0, 0, 0, 0, 0, 0, 0, 0, 0, 0, 0, 0, 0, 0, 0, 0, 0, 0, 0, 0, 0, 0, 0, 0, 0, 0, 0, 0, 0, 0, 0, 0, 0, 0, 0, 0, 0, 0, 0, 0, 0, 0, 0, 0, 0, 0, 0, 0, 0, 0, 0, 0, 0, 0, 0, 0, 0, 0, 0, 0, 0, 0, 0, 0, 0, 0, 0, 0, 0, 0, 0, 0, 0, 0, 0, 0, 0, 0, 0, 0, 0, 0, 0, 0, 0, 0, 0, 0, 0, 0, 0, 0, 0, 0, 0, 0, 0, 0, 0, 0, 0, 0, 0, 0, 0, 0, 0, 0, 0, 0, 0, 0, 0, 0, 0, 0, 0, 0, 0, 0, 0, 0, 0, 0, 0, 0, 0, 0, 0, 0, 0, 0, 0, 0, 0, 0, 0, 0, 0, 0, 0, 0, 0, 0, 0, 0, 0, 0, 0, 0, 0, 0, 0, 0, 0, 0, 0, 0, 0, 0, 0, 0, 0, 0, 0, 0, 0, 0, 0, 0, 0, 0, 0, 0, 0, 0, 0, 0, 0, 0, 0, 0, 0, 0, 0, 0, 0, 0, 0, 0, 0, 0, 0, 0, 0, 0, 0, 0, 0, 0, 0, 0, 0, 0, 0, 0, 0, 0, 0, 0, 0, 0, 0, 0, 0, 0, 0, 0, 0, 0, 0, 0, 0, 0, 0, 0, 0, 0, 0, 0, 0, 0, 0, 0, 0, 0, 0, 0, 0, 0, 0, 0, 0, 0, 0, 0, 0, 0, 0, 0, 0, 0, 0, 0, 0, 0, 0, 0, 0, 0, 0, 0, 0, 0, 0, 0, 0, 0, 0, 0, 0, 0, 0, 0, 0, 0, 0, 0, 0, 0, 0, 0, 0, 0, 0, 0, 0, 0, 0, 0, 0, 0, 0, 0, 0, 0, 0, 0, 0, 0, 0, 0, 0, 0, 0, 0, 0, 0, 0, 0, 0, 0, 0, 0, 0, 0, 0, 0, 0, 0, 0, 0, 0, 0, 0, 0, 0, 0, 0, 0, 0, 0, 0, 0, 0, 0, 0, 0, 0, 0, 0, 0, 0, 0, 0, 0, 0, 0, 0, 0, 0, 0, 0, 0, 0, 0, 0, 0, 0, 0, 0, 0, 0, 0, 0, 0, 0, 0, 0, 0, 0, 0, 0, 0, 1, 0, 1, 0, 0, 0, 0, 0, 0, 0, 0, 0, 0, 0, 0, 0, 0, 0, 0, 0, 0, 0, 0, 0, 0, 0, 0, 0, 0, 0, 0, 0, 0, 0, 0, 0, 0, 0, 0, 0, 0, 0, 0, 0, 0, 0, 0, 0, 0, 0, 0, 0, 0, 0, 0, 0, 0, 0, 0, 0, 0, 0, 0, 0, 0, 0, 0, 0, 0, 0, 0, 0, 0, 0, 0, 0, 0, 0, 0, 0, 0, 0, 0, 0, 0, 0, 0, 0, 0, 0, 0, 0, 0, 0, 0, 0, 0, 0, 0, 0, 0, 0, 0, 0, 0, 0, 0, 0, 0, 0, 0, 0, 0, 0, 0, 0, 0, 0, 0, 0, 0, 0, 0, 0, 0, 0, 0, 0, 0, 0, 0, 0, 0, 0, 0, 0, 0, 0, 0, 0, 0, 0, 0, 0, 0, 0, 0, 0, 0, 0, 0, 0, 0, 0, 0, 0, 0, 0, 0, 0, 0, 0, 0, 0, 0, 0, 0, 0, 0, 0, 0, 0, 0, 0, 0, 0, 0, 0, 0, 0, 0, 0, 0, 0, 0, 0, 0, 0, 0, 0, 0, 0, 0, 0, 0, 0, 0, 0, 0, 0, 0, 0, 0, 0, 0, 0, 0, 0, 0, 0, 0, 0, 0, 0, 0, 0, 0, 0, 0, 0, 0, 0, 0, 0, 0, 0, 0, 0, 0, 0, 0, 0, 0, 0, 0, 0, 0, 0, 0, 0, 0, 0, 0, 0, 0, 0, 0, 0, 0, 0, 0, 0, 0, 0, 0, 0, 0, 0, 0, 0, 0, 0, 0, 0, 0, 0, 0, 0, 0, 0, 0, 0, 0, 0, 0, 0, 0, 0, 0, 0, 0, 0, 0, 0, 0, 0, 0, 0, 0, 0, 0, 0, 0, 0, 0, 0, 1, 0, 0, 0, 0, 0, 0, 0, 0, 0, 0, 0, 0, 0, 0, 0, 0, 0, 0, 0, 0, 0, 0, 0, 0, 0, 0, 0, 0, 0, 0, 0, 0, 0, 0, 0, 0, 0, 0, 0, 0, 0, 0, 0, 0, 0, 0, 0, 0, 0, 0, 0, 0, 0, 0, 0, 0, 0, 0, 0, 0, 0, 0, 0, 0, 0, 0, 0, 0, 0, 0, 0, 0, 0, 0, 0, 0, 0, 0, 0, 0, 0, 0, 0, 0, 0, 0, 0, 0, 0, 0, 0, 0, 0, 0, 0, 0, 0, 0, 0, 0, 0, 0, 0, 0, 0, 0, 0, 0, 0, 0, 0, 0, 0, 0, 0, 0, 0, 0, 0, 0, 0, 0, 0, 0, 0, 0, 0, 0, 0, 0, 0, 0, 0, 0, 0, 0, 0, 0, 0, 0, 0, 0, 0, 0, 0, 0, 0, 0, 0, 0, 0, 0, 0, 0, 0, 0, 0, 0, 0, 0, 0, 0, 0, 0, 0, 0, 0, 0, 0, 0, 0, 0, 0, 0, 0, 0, 0, 0, 0, 0, 0, 0, 0, 0, 0, 0, 0, 0, 0, 0, 0, 0, 0, 0, 0, 0, 0, 0, 0, 0, 0, 0, 0, 0, 0, 0, 0, 0, 0, 0, 0, 0, 0, 0, 0, 0, 0, 0, 0, 0, 0, 0, 0, 0, 0, 0, 0, 0, 0, 0, 0, 0, 0, 0, 0, 0, 0, 0, 0, 0, 0, 0, 0, 0, 0, 0, 0, 0, 0, 0, 0, 0, 0, 0, 0, 0, 0, 0, 0, 0, 0, 0, 0, 0, 0, 0, 0, 0, 0, 0, 0, 0, 0, 0, 0, 0, 1, 0, 0, 0, 0, 0, 0, 0, 0, 0, 0, 0, 0, 0, 0, 0, 0, 0, 0, 0, 0, 0, 0, 0, 0, 0, 0, 0, 0, 0, 0, 0, 0, 0, 0, 0, 0, 0, 0, 0, 0, 0, 0, 0, 0, 0, 0, 0, 0, 0, 0, 0, 0, 0, 0, 0, 0, 0, 0, 0, 0, 0, 0, 0, 0, 0, 0, 0, 0, 0, 0, 0, 0, 0, 0, 0, 0, 0, 0, 0, 0, 0, 0, 0, 0, 0, 0, 0, 0, 0, 0, 0, 0, 0, 0, 0, 0, 0, 0, 0, 0, 0, 0, 0, 0, 0, 0, 0, 0, 0, 0, 0, 0, 0, 0, 0, 0, 0, 0, 0, 0, 0, 0, 0, 0, 0, 0, 0, 0, 0, 0, 0, 0, 0, 0, 0, 0, 0, 0, 0, 0, 0, 0, 0, 0, 0, 0, 0, 0, 0, 0, 0, 0, 0, 0, 0, 0, 0, 0, 0, 0, 0, 0, 0, 0, 0, 0, 0, 0, 0, 0, 0, 0, 0, 0, 0, 0, 0, 0, 0, 0, 0, 0, 0, 0, 0, 0, 0, 0, 0, 0, 0, 0, 0, 0, 0, 0, 0, 0, 0, 0, 0, 0, 0, 0, 0, 0, 0, 0, 0, 0, 0, 0, 0, 0, 0, 0, 0, 0, 0, 0, 0, 0, 0, 0, 0, 0, 0, 0, 0, 0, 0, 0, 0, 0, 0, 0, 0, 0, 0, 0, 0, 0, 0, 0, 0, 0, 0, 0, 0, 0, 0, 0, 0, 0, 0, 0, 0, 0, 0, 0, 0, 0, 0, 0, 0, 0, 0, 0, 0, 0, 0, 0, 0, 0, 0, 0, 0, 0, 0, 0, 0, 0, 0, 0, 0, 0, 0, 0, 0, 0, 0, 0, 0, 0, 0, 0, 0, 0, 0, 0, 0, 0, 0, 0, 0, 0, 0, 0, 0, 0, 0, 0, 0, 0, 0, 0, 0, 0, 0, 0, 0, 0, 0, 0, 0, 0, 0, 0, 0, 0, 0, 0, 0, 0, 0, 0, 0, 0, 0, 0, 0, 0, 0, 0, 0, 0, 0, 0, 0, 0, 0, 0, 0, 0, 0, 0, 0, 0, 0, 0, 0, 0, 0, 0, 0, 0, 0, 0, 0, 0, 0, 0, 0, 0, 0, 0, 0, 0, 0, 0, 0, 0, 0, 0, 0, 0, 0, 0, 0, 0, 0, 0, 0, 0, 0, 0, 0, 0, 0, 0, 0, 0, 0, 0, 0, 0, 0, 0, 0, 0, 0, 0, 0, 0, 0, 0, 0, 0, 0, 0, 0, 0, 0, 0, 0, 0, 0, 0, 0, 0, 0, 0, 0, 0, 0, 0, 0, 0, 0, 0, 0, 0, 0, 0, 0, 0, 0, 0, 0, 0, 0, 0, 0, 0, 0, 0, 0, 0, 0, 0, 0, 0, 0, 0, 0, 0, 0, 0, 0, 0, 0, 0, 0, 0, 0, 0, 0, 0, 0, 0, 0, 0, 0, 0, 0, 0, 0, 0, 0, 0, 0, 0, 0, 0, 0, 0, 0, 0, 0, 0, 0, 0, 0, 0, 0, 0, 0, 0, 0, 0, 0, 0, 0, 0, 0, 0, 0, 0, 0, 0, 0, 0, 0, 0, 0, 0, 0, 0, 0, 0, 0, 0, 0, 0, 0, 0, 0, 0, 0, 0, 0, 0, 0, 0, 0, 0, 0, 0, 0, 0, 0, 0, 0, 0, 0, 0, 0, 0, 0, 0, 0, 0, 0, 0, 0, 0, 0, 0, 0, 0, 0, 0, 0, 0, 0, 0, 0, 0, 0, 0, 0, 0, 0, 0, 0, 0, 0, 0, 0, 0, 0, 0, 0, 0, 0, 0, 0, 0, 0, 0, 0, 0, 0, 0, 0, 0, 0, 0, 0, 0, 0, 0, 0, 0, 0, 0, 0, 0, 0, 0, 0, 0, 0, 0, 0, 0, 0, 0, 0, 0, 0, 0, 0, 0, 0, 0, 0, 0, 0, 0, 0, 0, 0, 0, 0, 0, 0, 0, 0, 0, 0, 0, 0, 0, 0, 0, 0, 0, 0, 0, 0, 0, 0, 0, 0, 0, 0, 0, 0, 0, 0, 0, 0, 0, 0, 0, 0, 0, 0, 0, 0, 0, 0, 0, 0, 0, 0, 0, 0, 0, 0, 0, 0, 0, 0, 0, 0, 0, 0, 0, 0, 0, 0, 0, 0, 0, 0, 0, 0, 0, 0, 0, 0, 0, 0, 0, 0, 0, 0, 0, 0, 0, 0, 0, 0, 0, 0, 0, 0, 0, 0, 0, 0, 0, 0, 0, 0, 0, 0, 0, 0, 0, 0, 0, 0, 0, 0, 0, 0, 0, 0, 0, 0, 0, 0, 0, 0, 0, 0, 0, 0, 0, 0, 0, 0, 0, 0, 0, 0, 0, 0, 0, 0, 0, 0, 0, 0, 0, 0, 0, 0, 0, 0, 0, 0, 0, 0, 0, 0, 0, 0, 0, 0, 0, 0, 0, 0, 0, 0, 0, 0, 0, 0, 0, 0, 0, 0, 0, 0, 0, 0, 0, 0, 0, 0, 0, 0, 0, 0, 0, 0, 0, 0, 0, 0, 0, 0, 0, 0, 0, 0, 0, 0, 0, 0, 0, 0, 0, 0, 0, 0, 0, 0, 0, 0, 0, 0, 0, 0, 0, 0, 0, 0, 0, 0, 0, 0, 0, 0, 0, 0, 0, 0, 0, 0, 0, 0, 0, 0, 0, 0, 0, 0, 0, 0, 0, 0, 0, 0, 0, 0, 0, 0, 0, 0, 0, 0, 0, 0, 0, 0, 0, 0, 0, 0, 0, 0, 0, 0, 0, 0, 0, 0, 0, 0, 0, 0, 0, 0, 0, 0, 0, 0, 0, 0, 0, 0, 0, 0, 0, 0, 0, 0, 0, 0, 0, 0, 0, 0, 0, 0, 0, 0, 0, 0, 0, 0, 0, 0, 0, 0, 0, 0, 0, 0, 0, 0, 0, 0, 0, 0, 0, 0, 0, 0, 0, 0, 0, 0, 0, 0, 0, 0, 0, 0, 0, 0, 0, 0, 0, 0, 0, 0, 0, 0, 0, 0, 0, 0, 0, 0, 0, 0, 0, 0, 0, 0, 0, 0, 0, 0, 0, 0, 0, 0, 0, 0, 0, 0, 0, 0, 0, 0, 0, 0, 0, 0, 0, 0, 0, 0, 0, 0, 0, 0, 0, 0, 0, 0, 0, 0, 0, 0, 0, 0, 0, 0, 0, 0, 0, 0, 0, 0, 0, 0, 0, 0, 0, 0, 0, 0, 0, 0, 0, 0, 0, 0, 0, 0, 0, 0, 0, 0, 0, 0, 0, 0, 0, 0, 0, 0, 0, 0, 0, 0, 0, 0, 0, 0, 0, 0, 0, 0, 0, 0, 0, 0, 0, 0, 0, 0, 0, 0, 0, 0, 0, 0, 0, 0, 0, 0, 0, 0, 0, 0, 0, 0, 0, 0, 0, 0, 0, 0, 0, 0, 0, 0, 0, 0, 0, 0, 0, 0, 0, 0, 0, 0, 0, 0, 0, 0, 0, 0, 0, 0, 0, 0, 0, 0, 0, 0, 0, 0, 0, 0, 0, 0, 0, 0, 0, 0, 0, 0, 0, 0, 0, 0, 0, 0, 0, 0, 0, 0, 0, 0, 0, 0, 0, 0, 0, 0, 0, 0, 0, 0, 0, 0, 0, 0, 0, 0, 0, 0, 0, 0, 0, 0, 0, 0, 0, 0, 0, 0, 0, 0, 0, 0, 0, 0, 0, 0, 0, 0, 0, 0, 0, 0, 0, 0, 0, 0, 0, 0, 0, 0, 0, 0, 0, 0, 0, 0, 0, 0, 0, 0, 0, 0, 0, 0, 0, 0, 0, 0, 0, 0, 0, 0, 0, 0, 0, 0, 0, 1, 0, 0, 0, 0, 0, 0, 0, 0, 0, 0, 0, 0, 0, 0, 0, 0, 0, 0, 0, 0, 0, 0, 0, 0, 0, 0, 0, 0, 0, 0, 0, 0, 0, 0, 0, 0, 0, 0, 0, 0, 0, 0, 0, 1, 0, 0, 0, 0, 0, 0, 0, 0, 0, 0, 0, 0, 0, 0, 0, 0, 0, 0, 0, 0, 0, 0, 0, 0, 0, 0, 0, 0, 0, 0, 0, 0, 0, 0, 0, 0, 0, 0, 0, 1, 0, 0, 0, 0, 0, 0, 0, 0, 0, 0, 0, 0, 0, 0, 0, 0, 0, 0, 0, 0, 0, 0, 0, 0, 0, 0, 0, 0, 0, 0, 0, 0, 0, 0, 0, 0, 0, 0, 0, 0, 0, 0, 0, 0, 0, 0, 0, 0, 0, 0, 0, 0, 0, 0, 0, 0, 0, 0, 0, 0, 0, 0, 0, 0, 0, 0, 0, 0, 0, 0, 0, 0, 0, 0, 0, 0, 0, 0, 0, 0, 0, 0, 0, 0, 0, 0, 0, 0, 0, 0, 0, 0, 0, 0, 0, 0, 0, 0, 0, 0, 0, 0, 0, 0, 0, 0, 0, 0, 0, 0, 0, 0, 0, 0, 0, 0, 0, 0, 0, 0, 0, 0, 0, 0, 0, 0, 0, 0, 0, 0, 0, 0, 0, 0, 0, 0, 0, 0, 0, 0, 0, 0, 0, 0, 0, 0, 0, 0, 0, 0, 0, 0, 0, 0, 0, 0, 0, 0, 0, 0, 0, 0, 0, 0, 0, 0, 0, 0, 0, 0, 0, 0, 0, 0, 0, 0, 0, 0, 0, 0, 0, 0, 0, 0, 0, 0, 0, 0, 0, 0, 0, 0, 0, 0, 0, 0, 0, 0, 0, 0, 0, 0, 0, 0, 0, 0, 0, 0, 0, 0, 0, 0, 0, 0, 0, 0, 0, 0, 0, 0, 0, 0, 0, 0, 0, 0, 0, 0, 0, 0, 0, 0, 0, 0, 0, 0, 0, 0, 0, 0, 0, 0, 0, 0, 0, 0, 0, 0, 0, 0, 0, 0, 0, 0, 0, 0, 0, 0, 0, 0, 0, 0, 0, 0, 0, 0, 0, 0, 0, 0, 0, 0, 0, 0, 0, 0, 0, 0, 0, 0, 0, 0, 0, 0, 0, 0, 0, 0, 0, 0, 0, 0, 0, 0, 0, 0, 0, 0, 0, 0, 0, 0, 0, 0, 0, 0, 0, 0, 0, 0, 0, 0, 0, 0, 0, 0, 0, 0, 0, 0, 0, 0, 0, 0, 0, 0, 0, 0, 0, 0, 0, 0, 0, 0, 0, 0, 0, 0, 0, 0, 0, 0, 0, 0, 0, 0, 0, 0, 0, 0, 0, 0, 0, 0, 0, 0, 0, 0, 0, 0, 0, 0, 0, 0, 0, 0, 0, 0, 0, 0, 0, 0, 0, 0, 0, 0, 0, 0, 0, 0, 0, 0, 0, 0, 0, 0, 0, 0, 0, 0, 0, 0, 0, 0, 0, 0, 0, 0, 0, 0, 0, 0, 0, 0, 0, 0, 0, 0, 0, 0, 0, 0, 0, 0, 0, 0, 0, 0, 0, 0, 0, 0, 0, 0, 0, 0, 0, 0, 0, 0, 0, 0, 0, 0, 0, 0, 0, 0, 0, 0, 0, 0, 0, 0, 0, 0, 0, 0, 0, 0, 0, 0, 0, 0, 0, 0, 0, 0, 1, 0, 0, 0, 0, 0, 0, 0, 0, 0, 0, 0, 0, 0, 0, 0, 0, 0, 0, 0, 0, 0, 0, 0, 0, 0, 0, 0, 0, 0, 0, 0, 0, 0, 0, 0, 0, 0, 0, 0, 0, 0, 0, 0, 0, 0, 0, 0, 0, 0, 0, 0, 0, 0, 0, 0, 0, 0, 0, 0, 0, 0, 0, 0, 0, 0, 0, 0, 0, 0, 0, 0, 0, 0, 0, 0, 0, 0, 0, 0, 0, 0, 0, 0, 0, 0, 0, 0, 0, 0, 0, 0, 0, 0, 0, 0, 0, 0, 0, 0, 0, 0, 0, 0, 0, 0, 0, 0, 0, 0, 0, 0, 0, 0, 0, 0, 0, 0, 0, 0, 0, 0, 0, 0, 0, 0, 0, 0, 0, 0, 0, 0, 0, 0, 0, 0, 0, 0, 0, 0, 0, 0, 0, 0, 0, 0, 0, 0, 0, 0, 0, 0, 0, 0, 0, 0, 0, 0, 0, 0, 0, 0, 0, 0, 0, 0, 0, 0, 0, 0, 0, 0, 0, 0, 0, 0, 0, 0, 0, 0, 0, 0, 0, 0, 0, 0, 0, 0, 0, 0, 0, 0, 0, 0, 0, 0, 0, 0, 0, 0, 0, 0, 0, 0, 0, 0, 0, 0, 0, 0, 0, 0, 0, 0, 0, 0, 0, 0, 0, 0, 0, 0, 0, 0, 0, 0, 0, 0, 0, 0, 0, 0, 0, 0, 0, 0, 0, 0, 0, 0, 0, 0, 0, 0, 0, 0, 0, 0, 0, 0, 0, 0, 0, 0, 0, 0, 0, 0, 0, 0, 1, 0, 0, 0, 0, 0, 0, 0, 0, 0, 0, 0, 0, 0, 0, 0, 0, 0, 0, 0, 0, 0, 0, 0, 0, 0, 0, 0, 0, 0, 0, 0, 0, 0, 0, 0, 0, 0, 0, 0, 0, 0, 0, 0, 0, 0, 0, 0, 0, 0, 0, 0, 0, 0, 0, 0, 0, 0, 0, 0, 0, 0, 0, 0, 0, 0, 0, 0, 0, 0, 0, 0, 0, 0, 0, 0, 0, 0, 0, 0, 0, 0, 0, 0, 0, 0, 0, 0, 0, 0, 0, 0, 0, 0, 0, 0, 0, 0, 0, 0, 0, 0, 0, 0, 0, 0, 0, 0, 0, 0, 0, 0, 0, 0, 0, 0, 0, 0, 0, 0, 0, 0, 0, 0, 0, 0, 0, 1, 0, 0, 0, 0, 0, 0, 0, 0, 0, 0, 0, 0, 0, 0, 0, 0, 0, 0, 0, 0, 0, 0, 0, 0, 0, 0, 0, 0, 0, 0, 0, 0, 0, 0, 0, 0, 0, 0, 0, 0, 0, 0, 0, 0, 0, 0, 0, 0, 0, 0, 0, 0, 0, 0, 0, 0, 0, 0, 0, 0, 0, 0, 0, 0, 0, 0, 0, 0, 0, 0, 0, 0, 0, 0, 0, 0, 0, 0, 0, 0, 0, 0, 0, 0, 0, 0, 0, 0, 0, 0, 0, 0, 0, 0, 0, 0, 0, 0, 0, 0, 0, 0, 0, 0, 0, 0, 0, 0, 0, 0, 0, 0, 0, 0, 0, 0, 0, 0, 0, 0, 0, 0, 0, 0, 0, 0, 0, 0, 0, 0, 0, 0, 0, 0, 0, 0, 0, 0, 0, 0, 0, 0, 0, 0, 0, 0, 0, 0, 0, 0, 0, 0, 0, 0, 0, 0, 0, 0, 0, 0, 0, 0, 0, 0, 0, 0, 0, 0, 0, 0, 0, 0, 0, 0, 0, 0, 0, 0, 0, 0, 0, 0, 0, 0, 0, 0, 0, 0, 0, 0, 0, 0, 0, 0, 0, 0, 0, 0, 0, 0, 0, 0, 0, 0, 0, 0, 0, 0, 0, 0, 0, 0, 0, 0, 0, 0, 0, 0, 0, 0, 0, 0, 0, 0, 0, 0, 0, 0, 0, 0, 0, 0, 0, 0, 0, 0, 0, 0, 0, 0, 0, 0, 0, 0, 0, 0, 0, 0, 0, 0, 0, 0, 0, 0, 0, 0, 0, 0, 0, 0, 0, 0, 0, 0, 0, 0, 0, 0, 0, 0, 0, 0, 0, 0, 0, 0, 0, 0, 0, 0, 0, 0, 0, 0, 0, 0, 0, 0, 0, 0, 0, 0, 0, 0, 0, 0, 0, 0, 0, 0, 0, 0, 0, 0, 0, 0, 0, 0, 0, 0, 0, 0, 0, 0, 0, 0, 0, 0, 0, 0, 0, 0, 0, 0, 0, 0, 0, 0, 0, 0, 0, 0, 0, 0, 0, 0, 0, 0, 0, 0, 0, 0, 0, 0, 0, 0, 0, 0, 0, 0, 0, 0, 0, 0, 0, 0, 0, 0, 0, 0, 0, 0, 0, 0, 0, 0, 0, 0, 0, 0, 0, 0, 0, 0, 0, 0, 0, 0, 0, 0, 0, 0, 0, 0, 0, 0, 0, 0, 0, 0, 0, 0, 0, 0, 0, 0, 0, 0, 0, 0, 0, 0, 0, 0, 0, 0, 0, 0, 0, 0, 0, 0, 0, 0, 0, 0, 0, 0, 0, 0, 0, 0, 0, 0, 0, 0, 0, 0, 0, 0, 0, 0, 0, 0, 0, 0, 0, 0, 0, 0, 0, 0, 0, 0, 0, 0, 0, 0, 0, 0, 0, 0, 0, 0, 0, 0, 0, 0, 0, 0, 0, 0, 0, 0, 0, 0, 0, 0, 0, 0, 0, 0, 0, 0, 0, 0, 0, 0, 0, 0, 0, 0, 0, 0, 0, 0, 0, 0, 0, 0, 0, 0, 0, 0, 0, 0, 0, 0, 0, 0, 0, 0, 0, 0, 0, 0, 0, 0, 0, 0, 0, 0, 0, 0, 0, 0, 0, 0, 0, 0, 0, 0, 0, 0, 0, 0, 0, 0, 0, 0, 0, 0, 0, 0, 0, 0, 0, 0, 0, 0, 0, 0, 0, 0, 0, 0, 0, 0, 0, 0, 0, 0, 0, 0, 0, 0, 0, 0, 0, 0, 0, 0, 0, 0, 0, 0, 0, 0, 0, 0, 0, 0, 0, 0, 0, 0, 0, 0, 0, 0, 0, 0, 0, 0, 0, 0, 0, 0, 0, 0, 0, 0, 0, 0, 0, 0, 0, 0, 0, 0, 0, 0, 0, 0, 0, 0, 0, 0, 0, 0, 0, 0, 0, 0, 0, 0, 0, 0, 0, 0, 0, 0, 0, 0, 0, 0, 0, 0, 0, 0, 0, 0, 0, 0, 0, 0, 0, 0, 0, 0, 0, 0, 0, 0, 0, 0, 0, 0, 0, 0, 0, 0, 0, 0, 0, 0, 0, 0, 0, 0, 0, 0, 0, 0, 0, 0, 0, 0, 0, 0, 0, 0, 0, 0, 0, 0, 0, 0, 0, 0, 0, 0, 0, 0, 0, 0, 0, 0, 0, 0, 0, 0, 0, 0, 0, 0, 0, 0, 0, 0, 0, 0, 0, 0, 0, 0, 0, 0, 0, 0, 0, 0, 0, 0, 0, 0, 0, 0, 0, 0, 0, 0, 0, 0, 0, 0, 0, 0, 0, 0, 0, 0, 0, 0, 0, 0, 0, 0, 0, 0, 0, 0, 0, 0, 0, 0, 0, 0, 0, 0, 0, 0, 0, 0, 0, 0, 0, 0, 0, 0, 0, 0, 0, 0, 0, 0, 0, 0, 0, 0, 0, 0, 0, 0, 0, 0, 0, 0, 0, 0, 0, 0, 0, 0, 0, 0, 0, 0, 0, 0, 0, 0, 0, 0, 0, 0, 0, 0, 0, 0, 0, 0, 0, 0, 0, 0, 0, 0, 0, 0, 0, 0, 0, 0, 0, 0, 0, 0, 0, 0, 0, 0, 0, 0, 0, 0, 0, 0, 0, 0, 0, 0, 0, 0, 0, 0, 0, 0, 0, 0, 0, 0, 0, 0, 0, 0, 0, 0, 0, 0, 0, 0, 0, 0, 0, 0, 0, 0, 0, 0, 0, 0, 0, 0, 0, 0, 0, 0, 0, 0, 0, 0, 0, 0, 0, 0, 0, 0, 0, 0, 0, 0, 0, 0, 0, 0, 0, 0, 0, 0, 0, 0, 0, 0, 0, 0, 0, 0, 0, 0, 0, 0, 0, 0, 0, 0, 0, 0, 0, 0, 0, 0, 0, 0, 0, 0, 0, 0, 0, 0, 0, 0, 0, 0, 0, 0, 0, 0, 0, 0, 0, 0, 0, 0, 0, 0, 0, 0, 0, 0, 0, 0, 0, 0, 0, 0, 0, 0, 0, 0, 0, 0, 0, 0, 0, 0, 0, 0, 0, 0, 0, 0, 0, 0, 0, 0, 0, 0, 0, 0, 0, 0, 0, 0, 0, 0, 0, 0, 0, 0, 0, 0, 0, 0, 0, 0, 0, 0, 0, 0, 0, 0, 0, 0, 0, 0, 0, 0, 0, 0, 0, 0, 0, 0, 0, 0, 0, 0, 0, 0, 0, 0, 0, 0, 0, 0, 0, 0, 0, 0, 0, 0, 0, 0, 0, 0, 0, 0, 0, 0, 0, 0, 0, 0, 0, 0, 0, 0, 0, 0, 0, 0, 0, 0, 0, 0, 0, 0, 0, 0, 0, 0, 0, 0, 0, 0, 0, 0, 0, 0, 0, 0, 0, 0, 0, 0, 0, 0, 0, 1, 0, 0, 0, 0, 0, 0, 0, 0, 0, 0, 0, 0, 0, 0, 0, 0, 0, 0, 0, 0, 0, 0, 0, 0, 0, 0, 0, 0, 0, 0, 0, 0, 0, 0, 0, 0, 0, 0, 0, 0, 0, 0, 0, 0, 0, 0, 0, 0, 0, 0, 0, 0, 0, 0, 0, 0, 0, 0, 0, 0, 0, 0, 0, 0, 0, 0, 0, 0, 0, 0, 0, 0, 0, 0, 0, 0, 0, 0, 0, 0, 0, 0, 0, 0, 0, 0, 0, 0, 0, 0, 0, 0, 0, 0, 0, 0, 0, 0, 0, 0, 0, 0, 0, 0, 0, 0, 0, 0, 0, 0, 0, 0, 0, 0, 0, 0, 0, 0, 0, 0, 0, 0, 0, 0, 0, 0, 0, 0, 0, 0, 0, 0, 0, 0, 0, 0, 0, 0, 0, 0, 0, 0, 0, 0, 0, 0, 0, 0, 0, 0, 0, 0, 0, 0, 0, 0, 0, 0, 0, 0, 0, 0, 0, 0, 0, 0, 0, 0, 0, 0, 0, 0, 0, 0, 0, 0, 0, 0, 0, 0, 0, 0, 0, 0, 0, 0, 0, 0, 0, 0, 0, 0, 0, 0, 0, 0, 0, 0, 0, 0, 0, 0, 0, 0, 0, 0, 0, 0, 0, 0, 0, 0, 0, 0, 0, 0, 0, 0, 0, 0, 0, 0, 0, 0, 0, 0, 0, 0, 0, 0, 0, 0, 0, 0, 0, 0, 0, 0, 0, 0, 0, 0, 0, 0, 0, 0, 0, 0, 0, 0, 0, 0, 0, 0, 0, 0, 0, 0, 0, 0, 0, 0, 0, 0, 0, 0, 0, 0, 0, 0, 0, 0, 0, 0, 0, 0, 0, 0, 0, 0, 0, 0, 0, 0, 0, 0, 0, 0, 0, 0, 0, 0, 0, 0, 0, 0, 0, 0, 0, 0, 0, 0, 0, 0, 0, 0, 0, 0, 0, 0, 0, 0, 0, 0, 0, 0, 0, 0, 0, 0, 0, 0, 0, 0, 0, 0, 0, 0, 0, 0, 0, 0, 0, 0, 0, 0, 0, 0, 0, 0, 0, 0, 0, 0, 0, 0, 0, 0, 0, 0, 0, 0, 0, 0, 0, 0, 0, 0, 0, 0, 0, 0, 0, 0, 0, 0, 0, 0, 0, 0, 0, 0, 0, 0, 0, 0, 0, 0, 0, 0, 0, 0, 0, 0, 0, 0, 1, 0, 0, 0, 0, 0, 0, 0, 0, 0, 0, 0, 0, 0, 0, 0, 0, 0, 0, 0, 0, 0, 0, 0, 0, 0, 0, 0, 0, 0, 0, 0, 0, 0, 0, 0, 0, 0, 0, 0, 0, 0, 0, 0, 0, 0, 0, 0, 0, 0, 0, 0, 0, 0, 0, 0, 0, 0, 0, 0, 0, 0, 0, 0, 0, 0, 0, 0, 0, 0, 0, 0, 0, 0, 0, 0, 0, 0, 0, 0, 0, 0, 0, 0, 0, 0, 0, 0, 0, 0, 0, 0, 0, 0, 0, 0, 0, 0, 0, 0, 0, 0, 0, 0, 0, 0, 0, 0, 0, 0, 0, 0, 0, 0, 0, 0, 0, 0, 0, 0, 0, 0, 0, 0, 0, 0, 0, 0, 0, 0, 0, 0, 0, 0, 0, 0, 0, 0, 0, 0, 0, 0, 0, 0, 0, 0, 0, 0, 0, 0, 0, 0, 0, 0, 0, 0, 0, 0, 0, 0, 0, 0, 0, 0, 0, 0, 0, 0, 0, 0, 0, 0, 0, 0, 0, 0, 0, 0, 0, 0, 0, 0, 0, 0, 0, 0, 0, 0, 0, 0, 0, 0, 0, 0, 0, 0, 0, 0, 0, 0, 0, 0, 0, 0, 0, 0, 0, 0, 0, 0, 0, 0, 0, 0, 0, 0, 0, 0, 0, 0, 0, 0, 0, 0, 0, 0, 0, 0, 0, 0, 0, 0, 0, 0, 0, 0, 0, 0, 0, 0, 0, 0, 0, 0, 0, 0, 0, 0, 0, 0, 0, 0, 0, 0, 0, 0, 0, 0, 0, 0, 0, 0, 0, 0, 0, 0, 0, 0, 0, 0, 0, 0, 0, 0, 0, 0, 0, 0, 0, 0, 0, 0, 0, 0, 0, 0, 0, 0, 0, 0, 0, 0, 0, 0, 0, 0, 0, 0, 0, 0, 0, 0, 0, 0, 0, 0, 0, 0, 0, 0, 0, 0, 0, 0, 0, 0, 0, 0, 0, 0, 0, 0, 0, 0, 0, 0, 0, 0, 0, 0, 0, 0, 0, 0, 0, 0, 0, 0, 0, 0, 0, 0, 0, 0, 0, 0, 0, 0, 0, 0, 0, 0, 0, 0, 0, 0, 0, 0, 0, 0, 0, 0, 0, 0, 0, 0, 0, 0, 0, 0, 0, 0, 0, 0, 0, 0, 0, 0, 0, 0, 0, 0, 0, 0, 0, 0, 0, 0, 0, 0, 0, 0, 0, 0, 0, 0, 0, 0, 0, 0, 0, 0, 0, 0, 0, 0, 0, 0, 0, 0, 0, 0, 0, 0, 0, 0, 0, 0, 0, 0, 0, 0, 0, 0, 0, 0, 0, 0, 0, 0, 0, 0, 0, 0, 0, 0, 0, 0, 0, 0, 0, 0, 0, 0, 0, 0, 0, 0, 0, 0, 0, 0, 0, 0, 0, 0, 0, 0, 0, 0, 0, 0, 0, 0, 0, 0, 0, 0, 0, 0, 0, 0, 0, 0, 0, 0, 0, 0, 0, 0, 0, 0, 0, 0, 0, 0, 0, 0, 0, 0, 0, 0, 0, 0, 0, 0, 0, 0, 0, 0, 0, 0, 0, 0, 0, 0, 0, 0, 0, 0, 0, 0, 0, 0, 0, 0, 0, 0, 0, 0, 0, 0, 0, 0, 0, 0, 0, 0, 0, 0, 0, 0, 0, 0, 0, 0, 0, 0, 0, 0, 0, 0, 0, 0, 0, 0, 0, 0, 0, 0, 0, 0, 0, 0, 0, 0, 0, 0, 0, 0, 0, 0, 0, 0, 0, 0, 0, 0, 0, 0, 0, 0, 0, 0, 0, 0, 0, 0, 0, 0, 0, 0, 0, 0, 0, 0, 0, 0, 0, 0, 0, 0, 0, 0, 0, 0, 0, 0, 0, 0, 0, 0, 0, 0, 0, 0, 0, 0, 0, 0, 0, 0, 0, 0, 0, 0, 0, 0, 0, 0, 0, 0, 0, 0, 0, 0, 0, 0, 0, 0, 0, 0, 0, 0, 0, 0, 0, 0, 0, 0, 0, 0, 0, 0, 0, 0, 0, 0, 0, 0, 0, 0, 0, 0, 0, 0, 0, 0, 0, 0, 0, 0, 0, 0, 0, 0, 0, 0, 0, 0, 0, 0, 0, 0, 0, 0, 0, 0, 0, 0, 0, 0, 0, 0, 0, 0, 0, 0, 0, 0, 0, 0, 0, 0, 0, 0, 0, 0, 0, 0, 0, 0, 0, 0, 0, 0, 0, 0, 0, 0, 0, 0, 0, 0, 0, 0, 0, 0, 0, 0, 0, 0, 0, 0, 0, 0, 0, 0, 0, 0, 0, 0, 0, 0, 0, 0, 0, 0, 0, 0, 0, 0, 0, 0, 0, 0, 0, 0, 0, 0, 0, 0, 0, 0, 0, 0, 0, 0, 0, 0, 0, 0, 0, 0, 0, 0, 0, 0, 0, 0, 0, 0, 0, 0, 0, 0, 0, 0, 0, 0, 0, 0, 0, 0, 0, 0, 0, 0, 0, 0, 0, 0, 0, 0, 0, 0, 0, 0, 0, 0, 0, 0, 0, 0, 0, 0, 0, 0, 0, 0, 0, 0, 0, 0, 0, 0, 0, 0, 0, 0, 0, 0, 0, 0, 0, 0, 0, 0, 0, 0, 0, 0, 0, 0, 0, 0, 0, 0, 0, 0, 0, 0, 0, 0, 0, 0, 0, 0, 0, 0, 0, 0, 0, 0, 0, 0, 0, 0, 0, 0, 0, 0, 0, 0, 0, 0, 0, 0, 0, 0, 0, 0, 0, 0, 0, 0, 0, 0, 0, 0, 0, 0, 0, 0, 0, 0, 0, 0, 0, 0, 0, 0, 0, 0, 0, 0, 0, 0, 0, 0, 0, 0, 0, 0, 0, 0, 0, 0, 0, 0, 0, 0, 0, 0, 0, 0, 0, 0, 0, 0, 0, 0, 0, 0, 0, 0, 0, 0, 0, 0, 0, 0, 0, 0, 0, 0, 0, 0, 0, 0, 0, 0, 0, 0, 0, 0, 0, 0, 0, 0, 0, 0, 0, 0, 0, 0, 0, 0, 0, 0, 0, 0, 0, 0, 0, 0, 0, 0, 0, 0, 0, 0, 0, 0, 0, 0, 0, 0, 0, 0, 0, 0, 0, 0, 0, 0, 0, 0, 0, 0, 0, 0, 0, 0, 0, 0, 0, 0, 0, 0, 0, 0, 0, 0, 0, 0, 0, 0, 0, 0, 0, 0, 0, 0, 0, 0, 0, 0, 0, 0, 0, 0, 0, 0, 0, 0, 0, 0, 0, 0, 0, 0, 0, 0, 0, 0, 0, 0, 0, 0, 0, 0, 0, 0, 0, 0, 0, 0, 0, 0, 0, 0, 0, 0, 0, 0, 0, 0, 0, 0, 0, 0, 0, 0, 0, 0, 0, 0, 0, 0, 0, 0, 0, 0, 0, 0, 0, 0, 0, 0, 0, 0, 0, 0, 0, 0, 0, 0, 0, 0, 0, 0, 0, 0, 0, 0, 0, 0, 0, 0, 0, 0, 0, 0, 0, 0, 0, 0, 0, 0, 0, 0, 0, 0, 0, 0, 0, 0, 0, 0, 0, 0, 0, 0, 0, 0, 0, 0, 0, 0, 0, 0, 0, 0, 0, 0, 0, 0, 0, 0, 0, 0, 0, 0, 0, 0, 0, 0, 0, 0, 0, 0, 0, 0, 0, 0, 0, 0, 0, 0, 0, 0, 0, 0, 0, 0, 0, 0, 0, 0, 0, 0, 0, 0, 0, 0, 0, 0, 0, 0, 0, 0, 0, 0, 0, 0, 0, 0, 0, 0, 0, 0, 0, 0, 0, 0, 0, 0, 0, 0, 0, 0, 0, 0, 0, 0, 0, 0, 0, 0, 0, 0, 0, 0, 0, 0, 0, 0, 0, 0, 0, 0, 0, 0, 0, 0, 0, 0, 0, 0, 0, 0, 0, 0, 0, 0, 0, 0, 0, 0, 0, 0, 0, 0, 0, 0, 0, 0, 0, 0, 0, 0, 0, 0, 0, 0, 0, 0, 0, 0, 0, 0, 0, 0, 0, 0, 0, 0, 0, 0, 0, 0, 0, 0, 0, 0, 0, 0, 0, 0, 0, 0, 0, 0, 0, 0, 0, 0, 0, 0, 0, 0, 0, 0, 0, 0, 0, 0, 0, 0, 0, 0, 0, 0, 0, 0, 0, 0, 0, 0, 0, 0, 0, 0, 0, 0, 0, 0, 0, 0, 0, 0, 0, 0, 0, 0, 0, 0, 0, 0, 0, 0, 0, 0, 0, 0, 0, 0, 0, 0, 0, 0, 0, 0, 0, 0, 0, 0, 0, 0, 0, 0, 0, 0, 0, 0, 0, 0, 0, 0, 0, 0, 0, 0, 0, 0, 0, 0, 0, 0, 0, 0, 0, 0, 0, 0, 0, 0, 0, 0, 0, 0, 0, 0, 0, 0, 0, 0, 0, 0, 0, 0, 0, 0, 0, 0, 0, 0, 0, 0, 0, 0, 0, 0, 0, 0, 0, 0, 0, 0, 0, 0, 0, 0, 0, 0, 0, 0, 0, 0, 0, 0, 0, 0, 0, 0, 0, 0, 0, 0, 0, 0, 0, 0, 0, 0, 0, 0, 0, 0, 0, 0, 0, 0, 0, 0, 0, 0, 0, 0, 0, 0, 0, 0, 0, 0, 0, 0, 0, 0, 0, 0, 0, 0, 0, 0, 0, 0, 0, 0, 0, 0, 0, 0, 0, 0, 0, 0, 0, 0, 0, 0, 0, 0, 0, 0, 0, 0, 0, 0, 0, 0, 0, 0, 0, 0, 0, 0, 0, 0, 0, 0, 0, 0, 0, 0, 0, 0, 0, 0, 0, 0, 0, 0, 0, 0, 0, 0, 0, 0, 0, 0, 0, 0, 0, 0, 0, 0, 0, 0, 0, 0, 0, 0, 0, 0, 0, 0, 0, 0, 0, 0, 0, 0, 0, 0, 0, 0, 0, 0, 0, 0, 0, 0, 0, 0, 0, 0, 0, 0, 0, 0, 0, 0, 0, 0, 0, 0, 0, 0, 0, 0, 0, 0, 0, 0, 0, 0, 0, 0, 0, 0, 0, 0, 0, 0, 0, 0, 0, 0, 0, 0, 0, 0, 0, 0, 0, 0, 0, 0, 0, 0, 0, 0, 0, 0, 0, 0, 0, 0, 0, 0, 0, 0, 0, 0, 0, 0, 0, 0, 0, 0, 0, 0, 0, 0, 0, 0, 0, 0, 0, 0, 0, 0, 0, 0, 0, 0, 0, 0, 0, 0, 0, 0, 0, 0, 0, 0, 0, 0, 0, 0, 0, 0, 0, 0, 0, 0, 0, 0, 0, 0, 0, 0, 0, 0, 0, 0, 0, 0, 0, 0, 0, 0, 0, 0, 0, 0, 0, 0, 0, 0, 0, 0, 0, 0, 0, 0, 0, 0, 0, 0, 0, 0, 0, 0, 0, 0, 0, 0, 0, 0, 0, 0, 0, 0, 0, 0, 0, 0, 0, 0, 0, 0, 0, 0, 0, 0, 0, 0, 0, 0, 0, 0, 0, 0, 0, 0, 0, 0, 0, 0, 0, 0, 0, 0, 1, 0, 0, 0, 0, 0, 0, 0, 0, 0, 0, 0, 0, 0, 0, 0, 0, 0, 0, 0, 0, 0, 0, 0, 0, 0, 0, 0, 0, 0, 0, 0, 0, 0, 0, 0, 0, 0, 0, 0, 0, 0, 0, 0, 0, 0, 0, 0, 0, 0, 0, 0, 0, 0, 0, 0, 0, 0, 0, 0, 0, 0, 0, 0, 0, 0, 0, 0, 0, 0, 0, 0, 0, 0, 0, 0, 0, 0, 0, 0, 0, 0, 0, 0, 0, 0, 0, 0, 0, 0, 0, 0, 0, 0, 0, 0, 0, 0, 0, 0, 0, 0, 0, 0, 0, 0, 0, 0, 0, 0, 0, 0, 0, 0, 0, 0, 0, 0, 0, 0, 0, 0, 0, 0, 0, 0, 0, 0, 0, 0, 0, 0, 0, 0, 0, 0, 0, 0, 0, 0, 0, 0, 0, 0, 0, 0, 0, 0, 0, 0, 0, 0, 0, 0, 0, 0, 0, 0, 0, 0, 0, 0, 0, 0, 0, 0, 0, 0, 0, 0, 0, 0, 0, 0, 0, 0, 0, 0, 0, 0, 0, 0, 0, 0, 0, 0, 0, 0, 0, 0, 0, 0, 0, 0, 0, 0, 0, 0, 0, 0, 0, 0, 0, 0, 0, 0, 0, 0, 0, 0, 0, 0, 0, 0, 0, 0, 0, 0, 0, 0, 0, 0, 0, 0, 0, 0, 0, 0, 0, 0, 0, 0, 0, 0, 0, 0, 0, 0, 0, 0, 0, 0, 0, 0, 0, 0, 0, 0, 0, 0, 0, 0, 0, 0, 0, 0, 0, 0, 0, 0, 0, 0, 0, 0, 0, 0, 0, 0, 0, 0, 0, 0, 0, 0, 0, 0, 0, 0, 0, 0, 0, 0, 0, 0, 0, 0, 0, 0, 0, 0, 0, 0, 0, 0, 0, 0, 0, 0, 0, 0, 0, 0, 0, 0, 0, 0, 0, 0, 0, 0, 0, 0, 0, 0, 0, 0, 0, 0, 0, 0, 0, 0, 0, 0, 0, 0, 0, 0, 0, 0, 0, 0, 0, 0, 0, 0, 0, 0, 0, 0, 0, 0, 0, 0, 0, 0, 0, 0, 0, 0, 0, 0, 0, 0, 0, 0, 0, 0, 0, 0, 0, 0, 0, 0, 0, 0, 0, 0, 0, 0, 0, 0, 0, 0, 0, 0, 0, 0, 0, 0, 0, 0, 0, 0, 0, 0, 0, 0, 0, 0, 1, 0, 0, 0, 0, 0, 0, 0, 0, 0, 0, 0, 0, 0, 0, 0, 0, 0, 0, 0, 0, 0, 0, 0, 0, 0, 0, 0, 0, 0, 0, 0, 0, 0, 0, 0, 0, 0, 0, 0, 0, 0, 0, 0, 0, 0, 0, 0, 0, 0, 0, 0, 0, 0, 0, 0, 0, 0, 0, 0, 0, 0, 0, 0, 0, 0, 0, 0, 0, 0, 0, 0, 0, 0, 0, 0, 0, 0, 0, 0, 0, 0, 0, 0, 0, 0, 0, 0, 0, 0, 0, 0, 0, 0, 0, 0, 0, 0, 0, 0, 0, 0, 0, 0, 0, 0, 0, 0, 0, 0, 0, 0, 0, 0, 0, 0, 0, 0, 0, 0, 0, 0, 0, 0, 0, 0, 0, 0, 0, 0, 0, 0, 0, 0, 0, 0, 0, 0, 0, 0, 0, 0, 0, 0, 0, 0, 0, 0, 0, 0, 0, 0, 0, 0, 0, 0, 0, 0, 0, 0, 0, 0, 0, 0, 0, 0, 0, 0, 0, 0, 0, 0, 0, 0, 0, 0, 0, 0, 0, 0, 0, 0, 0, 0, 0, 0, 0, 0, 0, 0, 0, 0, 0, 0, 0, 0, 0, 0, 0, 0, 0, 0, 0, 0, 0, 0, 0, 0, 0, 0, 0, 0, 0, 0, 0, 0, 0, 0, 0, 0, 0, 0, 0, 0, 0, 0, 0, 0, 0, 0, 0, 0, 0, 0, 0, 0, 0, 0, 0, 0, 1, 0, 0, 0, 0, 0, 0, 0, 0, 0, 0, 0, 0, 0, 0, 0, 0, 0, 0, 0, 0, 0, 0, 0, 0, 0, 0, 0, 0, 0, 0, 0, 0, 0, 0, 0, 0, 0, 0, 0, 0, 0, 0, 0, 0, 0, 0, 0, 0, 0, 0, 0, 0, 0, 0, 0, 0, 0, 0, 0, 0, 0, 0, 0, 0, 0, 0, 0, 0, 0, 0, 0, 0, 0, 0, 0, 0, 0, 0, 0, 0, 0, 0, 0, 0, 0, 0, 0, 0, 0, 0, 0, 0, 0, 0, 0, 0, 0, 0, 0, 0, 0, 0, 0, 0, 0, 0, 0, 0, 0, 0, 0, 0, 0, 0, 0, 0, 0, 0, 0, 0, 0, 0, 0, 0, 0, 0, 0, 0, 0, 0, 0, 0, 0, 0, 0, 0, 0, 0, 0, 0, 0, 0, 0, 0, 0, 0, 0, 0, 0, 0, 0, 0, 0, 0, 0, 0, 0, 0, 0, 0, 0, 0, 0, 0, 0, 0, 0, 0, 0, 0, 0, 0, 0, 0, 0, 0, 0, 0, 0, 0, 0, 0, 0, 0, 0, 0, 0, 0, 0, 0, 0, 0, 0, 0, 0, 0, 0, 0, 0, 0, 0, 0, 0, 0, 0, 0, 0, 0, 0, 0, 0, 0, 0, 0, 0, 0, 0, 0, 0, 0, 0, 0, 0, 1, 0, 0, 0, 0, 0, 0, 0, 0, 0, 0, 0, 0, 0, 0, 0, 0, 0, 0, 0, 0, 0, 0, 0, 0, 0, 0, 0, 0, 0, 0, 0, 0, 0, 0, 0, 0, 0, 0, 0, 0, 0, 0, 0, 0, 0, 0, 0, 0, 0, 0, 0, 0, 0, 0, 0, 0, 0, 0, 0, 0, 0, 0, 0, 0, 0, 0, 0, 0, 0, 0, 0, 0, 0, 0, 0, 0, 0, 0, 0, 0, 0, 0, 0, 0, 0, 0, 0, 0, 0, 0, 0, 0, 0, 0, 0, 0, 0, 0, 0, 0, 0, 0, 0, 0, 0, 0, 0, 0, 0, 0, 0, 0, 0, 0, 0, 0, 0, 0, 0, 0, 0, 0, 0, 0, 0, 0, 0, 0, 0, 0, 0, 0, 0, 0, 0, 0, 0, 0, 0, 0, 0, 0, 0, 0, 0, 0, 0, 0, 0, 0, 0, 0, 0, 0, 0, 0, 0, 0, 0, 0, 0, 0, 0, 0]\n"
     ]
    }
   ],
   "source": [
    "for x in counts[0].toarray().tolist():\n",
    "    print(x)"
   ]
  },
  {
   "cell_type": "code",
   "execution_count": 18,
   "metadata": {},
   "outputs": [
    {
     "data": {
      "text/plain": [
       "{'go': 3571,\n",
       " 'until': 8084,\n",
       " 'jurong': 4374,\n",
       " 'point': 5958,\n",
       " 'crazy': 2338,\n",
       " 'available': 1316,\n",
       " 'only': 5571,\n",
       " 'in': 4114,\n",
       " 'bugis': 1767,\n",
       " 'great': 3655,\n",
       " 'world': 8548,\n",
       " 'la': 4501,\n",
       " 'buffet': 1765,\n",
       " 'cine': 2061,\n",
       " 'there': 7694,\n",
       " 'got': 3615,\n",
       " 'amore': 1082,\n",
       " 'wat': 8324,\n",
       " 'ok': 5538,\n",
       " 'lar': 4537,\n",
       " 'joking': 4342,\n",
       " 'wif': 8450,\n",
       " 'oni': 5567,\n",
       " 'free': 3373,\n",
       " 'entry': 2963,\n",
       " 'wkly': 8506,\n",
       " 'comp': 2178,\n",
       " 'to': 7806,\n",
       " 'win': 8463,\n",
       " 'fa': 3100,\n",
       " 'cup': 2398,\n",
       " 'final': 3221,\n",
       " 'tkts': 7793,\n",
       " '21st': 412,\n",
       " 'may': 4959,\n",
       " '2005': 403,\n",
       " 'text': 7644,\n",
       " '87121': 794,\n",
       " 'receive': 6340,\n",
       " 'question': 6232,\n",
       " 'std': 7279,\n",
       " 'txt': 7986,\n",
       " 'rate': 6284,\n",
       " 'apply': 1169,\n",
       " '08452810075over18': 77,\n",
       " 'dun': 2815,\n",
       " 'say': 6679,\n",
       " 'so': 7074,\n",
       " 'early': 2836,\n",
       " 'hor': 3952,\n",
       " 'already': 1054,\n",
       " 'then': 7688,\n",
       " 'nah': 5270,\n",
       " 'don': 2724,\n",
       " 'think': 7709,\n",
       " 'he': 3805,\n",
       " 'goes': 3579,\n",
       " 'usf': 8130,\n",
       " 'lives': 4692,\n",
       " 'around': 1220,\n",
       " 'here': 3856,\n",
       " 'though': 7729,\n",
       " 'freemsg': 3380,\n",
       " 'hey': 3866,\n",
       " 'darling': 2455,\n",
       " 'it': 4245,\n",
       " 'been': 1475,\n",
       " 'week': 8371,\n",
       " 'now': 5453,\n",
       " 'and': 1097,\n",
       " 'no': 5400,\n",
       " 'word': 8539,\n",
       " 'back': 1363,\n",
       " 'like': 4642,\n",
       " 'some': 7089,\n",
       " 'fun': 3438,\n",
       " 'you': 8668,\n",
       " 'up': 8086,\n",
       " 'for': 3323,\n",
       " 'still': 7302,\n",
       " 'tb': 7578,\n",
       " 'xxx': 8614,\n",
       " 'chgs': 2015,\n",
       " 'send': 6771,\n",
       " '50': 616,\n",
       " 'rcv': 6297,\n",
       " 'even': 3012,\n",
       " 'my': 5254,\n",
       " 'brother': 1737,\n",
       " 'is': 4233,\n",
       " 'not': 5438,\n",
       " 'speak': 7161,\n",
       " 'with': 8492,\n",
       " 'me': 4968,\n",
       " 'they': 7702,\n",
       " 'treat': 7916,\n",
       " 'aids': 1004,\n",
       " 'patent': 5758,\n",
       " 'as': 1237,\n",
       " 'per': 5801,\n",
       " 'your': 8674,\n",
       " 'request': 6449,\n",
       " 'melle': 4998,\n",
       " 'oru': 5628,\n",
       " 'minnaminunginte': 5065,\n",
       " 'nurungu': 5473,\n",
       " 'vettam': 8188,\n",
       " 'has': 3779,\n",
       " 'set': 6798,\n",
       " 'callertune': 1838,\n",
       " 'all': 1041,\n",
       " 'callers': 1837,\n",
       " 'press': 6081,\n",
       " 'copy': 2279,\n",
       " 'friends': 3397,\n",
       " 'winner': 8474,\n",
       " 'valued': 8157,\n",
       " 'network': 5349,\n",
       " 'customer': 2411,\n",
       " 'have': 3794,\n",
       " 'selected': 6757,\n",
       " 'receivea': 6341,\n",
       " '900': 826,\n",
       " 'prize': 6113,\n",
       " 'reward': 6504,\n",
       " 'claim': 2067,\n",
       " 'call': 1828,\n",
       " '09061701461': 224,\n",
       " 'code': 2133,\n",
       " 'kl341': 4464,\n",
       " 'valid': 8153,\n",
       " '12': 323,\n",
       " 'hours': 3972,\n",
       " 'had': 3721,\n",
       " 'mobile': 5119,\n",
       " '11': 312,\n",
       " 'months': 5159,\n",
       " 'or': 5604,\n",
       " 'more': 5163,\n",
       " 'entitled': 2960,\n",
       " 'update': 8091,\n",
       " 'the': 7674,\n",
       " 'latest': 4551,\n",
       " 'colour': 2154,\n",
       " 'mobiles': 5120,\n",
       " 'camera': 1849,\n",
       " 'co': 2122,\n",
       " 'on': 5559,\n",
       " '08002986030': 61,\n",
       " 'gonna': 3595,\n",
       " 'be': 1451,\n",
       " 'home': 3925,\n",
       " 'soon': 7116,\n",
       " 'want': 8303,\n",
       " 'talk': 7545,\n",
       " 'about': 870,\n",
       " 'this': 7718,\n",
       " 'stuff': 7369,\n",
       " 'anymore': 1136,\n",
       " 'tonight': 7844,\n",
       " 've': 8172,\n",
       " 'cried': 2355,\n",
       " 'enough': 2950,\n",
       " 'today': 7813,\n",
       " 'six': 6978,\n",
       " 'chances': 1956,\n",
       " 'cash': 1902,\n",
       " 'from': 3414,\n",
       " '100': 298,\n",
       " '20': 398,\n",
       " '000': 1,\n",
       " 'pounds': 6021,\n",
       " 'csh11': 2374,\n",
       " '87575': 799,\n",
       " 'cost': 2291,\n",
       " '150p': 352,\n",
       " 'day': 2471,\n",
       " '6days': 690,\n",
       " '16': 364,\n",
       " 'tsandcs': 7950,\n",
       " 'reply': 6442,\n",
       " 'hl': 3897,\n",
       " 'info': 4149,\n",
       " 'urgent': 8109,\n",
       " 'won': 8523,\n",
       " 'membership': 5004,\n",
       " 'our': 5641,\n",
       " 'jackpot': 4270,\n",
       " '81010': 747,\n",
       " 'www': 8596,\n",
       " 'dbuk': 2476,\n",
       " 'net': 5343,\n",
       " 'lccltd': 4569,\n",
       " 'pobox': 5937,\n",
       " '4403ldnw1a7rw18': 565,\n",
       " 'searching': 6726,\n",
       " 'right': 6516,\n",
       " 'words': 8540,\n",
       " 'thank': 7661,\n",
       " 'breather': 1706,\n",
       " 'promise': 6146,\n",
       " 'wont': 8530,\n",
       " 'take': 7537,\n",
       " 'help': 3842,\n",
       " 'granted': 3644,\n",
       " 'will': 8460,\n",
       " 'fulfil': 3434,\n",
       " 'wonderful': 8527,\n",
       " 'blessing': 1582,\n",
       " 'at': 1273,\n",
       " 'times': 7771,\n",
       " 'date': 2463,\n",
       " 'sunday': 7437,\n",
       " 'xxxmobilemovieclub': 8615,\n",
       " 'use': 8124,\n",
       " 'credit': 2345,\n",
       " 'click': 2090,\n",
       " 'wap': 8308,\n",
       " 'link': 4664,\n",
       " 'next': 5367,\n",
       " 'message': 5022,\n",
       " 'http': 3994,\n",
       " 'com': 2157,\n",
       " 'qjkgighjjgcbl': 6224,\n",
       " 'oh': 5533,\n",
       " 'watching': 8329,\n",
       " 'eh': 2883,\n",
       " 'remember': 6409,\n",
       " 'how': 3978,\n",
       " 'spell': 7176,\n",
       " 'his': 3888,\n",
       " 'name': 5276,\n",
       " 'yes': 8651,\n",
       " 'did': 2606,\n",
       " 'naughty': 5303,\n",
       " 'make': 4878,\n",
       " 'wet': 8408,\n",
       " 'fine': 3229,\n",
       " 'if': 4067,\n",
       " 'that': 7670,\n",
       " 'way': 8341,\n",
       " 'feel': 3171,\n",
       " 'its': 4253,\n",
       " 'gota': 3616,\n",
       " 'england': 2941,\n",
       " 'macedonia': 4840,\n",
       " 'dont': 2728,\n",
       " 'miss': 5081,\n",
       " 'goals': 3575,\n",
       " 'team': 7590,\n",
       " 'news': 5363,\n",
       " 'ur': 8105,\n",
       " 'national': 5297,\n",
       " '87077': 793,\n",
       " 'eg': 2878,\n",
       " 'try': 7946,\n",
       " 'wales': 8283,\n",
       " 'scotland': 6705,\n",
       " '4txt': 608,\n",
       " 'ú1': 8711,\n",
       " 'poboxox36504w45wq': 5949,\n",
       " 'seriously': 6791,\n",
       " 'going': 3584,\n",
       " 'ha': 3717,\n",
       " 'pay': 5770,\n",
       " 'first': 3246,\n",
       " 'when': 8419,\n",
       " 'da': 2428,\n",
       " 'stock': 7305,\n",
       " 'comin': 2168,\n",
       " 'aft': 974,\n",
       " 'finish': 3232,\n",
       " 'lunch': 4806,\n",
       " 'str': 7330,\n",
       " 'down': 2750,\n",
       " 'lor': 4747,\n",
       " 'ard': 1195,\n",
       " 'smth': 7057,\n",
       " 'ffffffffff': 3191,\n",
       " 'alright': 1055,\n",
       " 'can': 1853,\n",
       " 'meet': 4987,\n",
       " 'sooner': 7117,\n",
       " 'just': 4376,\n",
       " 'forced': 3325,\n",
       " 'myself': 5260,\n",
       " 'eat': 2848,\n",
       " 'slice': 7009,\n",
       " 'really': 6322,\n",
       " 'hungry': 4014,\n",
       " 'tho': 7725,\n",
       " 'sucks': 7406,\n",
       " 'mark': 4915,\n",
       " 'getting': 3531,\n",
       " 'worried': 8551,\n",
       " 'knows': 4475,\n",
       " 'sick': 6927,\n",
       " 'turn': 7969,\n",
       " 'pizza': 5892,\n",
       " 'lol': 4724,\n",
       " 'always': 1064,\n",
       " 'convincing': 2267,\n",
       " 'catch': 1912,\n",
       " 'bus': 1787,\n",
       " 'are': 1196,\n",
       " 'frying': 3422,\n",
       " 'an': 1092,\n",
       " 'egg': 2880,\n",
       " 'tea': 7584,\n",
       " 'eating': 2851,\n",
       " 'mom': 5140,\n",
       " 'left': 4593,\n",
       " 'over': 5663,\n",
       " 'dinner': 2637,\n",
       " 'do': 2688,\n",
       " 'love': 4769,\n",
       " 'amp': 1084,\n",
       " 'we': 8346,\n",
       " 're': 6301,\n",
       " 'packing': 5689,\n",
       " 'car': 1874,\n",
       " 'll': 4696,\n",
       " 'let': 4614,\n",
       " 'know': 4472,\n",
       " 'room': 6557,\n",
       " 'ahhh': 999,\n",
       " 'work': 8541,\n",
       " 'vaguely': 8149,\n",
       " 'what': 8412,\n",
       " 'does': 2700,\n",
       " 'wait': 8277,\n",
       " 'clear': 2084,\n",
       " 'were': 8397,\n",
       " 'sure': 7463,\n",
       " 'being': 1493,\n",
       " 'sarcastic': 6657,\n",
       " 'why': 8443,\n",
       " 'doesn': 2702,\n",
       " 'live': 4688,\n",
       " 'us': 8120,\n",
       " 'yeah': 8639,\n",
       " 'was': 8317,\n",
       " 'apologetic': 1156,\n",
       " 'fallen': 3125,\n",
       " 'out': 5644,\n",
       " 'she': 6843,\n",
       " 'actin': 915,\n",
       " 'spoilt': 7203,\n",
       " 'child': 2023,\n",
       " 'caught': 1916,\n",
       " 'till': 7768,\n",
       " 'but': 1794,\n",
       " 'doing': 2714,\n",
       " 'too': 7849,\n",
       " 'badly': 1368,\n",
       " 'cheers': 1999,\n",
       " 'tell': 7608,\n",
       " 'anything': 1142,\n",
       " 'fear': 3163,\n",
       " 'of': 5511,\n",
       " 'fainting': 3117,\n",
       " 'housework': 3976,\n",
       " 'quick': 6235,\n",
       " 'cuppa': 2400,\n",
       " 'thanks': 7662,\n",
       " 'subscription': 7394,\n",
       " 'ringtone': 6525,\n",
       " 'uk': 8016,\n",
       " 'charged': 1968,\n",
       " 'month': 5156,\n",
       " 'please': 5917,\n",
       " 'confirm': 2222,\n",
       " 'by': 1811,\n",
       " 'replying': 6443,\n",
       " 'yup': 8695,\n",
       " 'look': 4735,\n",
       " 'timings': 7775,\n",
       " 'msg': 5199,\n",
       " 'again': 982,\n",
       " 'xuhui': 8610,\n",
       " 'learn': 4583,\n",
       " '2nd': 466,\n",
       " 'her': 3855,\n",
       " 'lesson': 4612,\n",
       " '8am': 819,\n",
       " 'oops': 5582,\n",
       " 'roommate': 6559,\n",
       " 'done': 2726,\n",
       " 'see': 6743,\n",
       " 'letter': 4616,\n",
       " 'decide': 2494,\n",
       " 'hello': 3839,\n",
       " 'saturday': 6670,\n",
       " 'texting': 7652,\n",
       " 'decided': 2495,\n",
       " 'tomo': 7833,\n",
       " 'trying': 7948,\n",
       " 'invite': 4207,\n",
       " 'pls': 5925,\n",
       " 'ahead': 998,\n",
       " 'watts': 8337,\n",
       " 'wanted': 8305,\n",
       " 'weekend': 8373,\n",
       " 'abiola': 866,\n",
       " 'forget': 3331,\n",
       " 'need': 5323,\n",
       " 'crave': 2335,\n",
       " 'most': 5172,\n",
       " 'sweet': 7494,\n",
       " 'arabian': 1192,\n",
       " 'steed': 7286,\n",
       " 'mmmmmm': 5109,\n",
       " 'yummy': 8690,\n",
       " '07732584351': 30,\n",
       " 'rodger': 6547,\n",
       " 'burns': 1784,\n",
       " 'tried': 7925,\n",
       " 'sms': 7052,\n",
       " 'nokia': 5410,\n",
       " 'camcorder': 1847,\n",
       " '08000930705': 57,\n",
       " 'delivery': 2534,\n",
       " 'tomorrow': 7835,\n",
       " 'who': 8435,\n",
       " 'seeing': 6745,\n",
       " 'hope': 3943,\n",
       " 'man': 4888,\n",
       " 'well': 8388,\n",
       " 'endowed': 2931,\n",
       " 'am': 1066,\n",
       " 'lt': 4793,\n",
       " 'gt': 3684,\n",
       " 'inches': 4118,\n",
       " 'calls': 1843,\n",
       " 'messages': 5024,\n",
       " 'missed': 5083,\n",
       " 'didn': 2608,\n",
       " 'get': 3523,\n",
       " 'hep': 3854,\n",
       " 'immunisation': 4097,\n",
       " 'nigeria': 5377,\n",
       " 'fair': 3118,\n",
       " 'hopefully': 3946,\n",
       " 'tyler': 7999,\n",
       " 'could': 2301,\n",
       " 'maybe': 4961,\n",
       " 'ask': 1247,\n",
       " 'bit': 1559,\n",
       " 'stubborn': 7358,\n",
       " 'hospital': 3959,\n",
       " 'kept': 4421,\n",
       " 'telling': 7609,\n",
       " 'weak': 8347,\n",
       " 'sucker': 7404,\n",
       " 'hospitals': 3960,\n",
       " 'suckers': 7405,\n",
       " 'thinked': 7710,\n",
       " 'time': 7770,\n",
       " 'saw': 6678,\n",
       " 'class': 2076,\n",
       " 'gram': 3636,\n",
       " 'usually': 8136,\n",
       " 'runs': 6600,\n",
       " 'half': 3733,\n",
       " 'eighth': 2886,\n",
       " 'smarter': 7032,\n",
       " 'gets': 3527,\n",
       " 'almost': 1050,\n",
       " 'whole': 8437,\n",
       " 'second': 6730,\n",
       " 'fyi': 3454,\n",
       " 'ride': 6515,\n",
       " 'morning': 5167,\n",
       " 'crashing': 2334,\n",
       " 'place': 5894,\n",
       " 'wow': 8567,\n",
       " 'never': 5354,\n",
       " 'realized': 6320,\n",
       " 'embarassed': 2911,\n",
       " 'accomodations': 897,\n",
       " 'thought': 7730,\n",
       " 'liked': 4643,\n",
       " 'since': 6952,\n",
       " 'best': 1513,\n",
       " 'seemed': 6749,\n",
       " 'happy': 3768,\n",
       " 'cave': 1920,\n",
       " 'sorry': 7126,\n",
       " 'give': 3552,\n",
       " 'offered': 5519,\n",
       " 'embarassing': 2912,\n",
       " 'ac': 883,\n",
       " 'sptv': 7225,\n",
       " 'new': 5358,\n",
       " 'jersey': 4312,\n",
       " 'devils': 2586,\n",
       " 'detroit': 2580,\n",
       " 'red': 6363,\n",
       " 'wings': 8472,\n",
       " 'play': 5908,\n",
       " 'ice': 4048,\n",
       " 'hockey': 3910,\n",
       " 'correct': 2284,\n",
       " 'incorrect': 4129,\n",
       " 'end': 2926,\n",
       " 'mallika': 4887,\n",
       " 'sherawat': 6850,\n",
       " 'yesterday': 8653,\n",
       " 'find': 3226,\n",
       " 'url': 8116,\n",
       " 'congrats': 2228,\n",
       " 'year': 8640,\n",
       " 'special': 7163,\n",
       " 'cinema': 2062,\n",
       " 'pass': 5747,\n",
       " 'yours': 8678,\n",
       " '09061209465': 219,\n",
       " 'suprman': 7461,\n",
       " 'matrix3': 4948,\n",
       " 'starwars3': 7267,\n",
       " 'etc': 3000,\n",
       " 'bx420': 1809,\n",
       " 'ip4': 4216,\n",
       " '5we': 651,\n",
       " '150pm': 354,\n",
       " 'later': 4550,\n",
       " 'meeting': 4989,\n",
       " 'where': 8423,\n",
       " 'reached': 6304,\n",
       " 'gauti': 3488,\n",
       " 'sehwag': 6754,\n",
       " 'odi': 5510,\n",
       " 'series': 6789,\n",
       " 'pick': 5864,\n",
       " 'burger': 1779,\n",
       " 'yourself': 8679,\n",
       " 'move': 5185,\n",
       " 'pain': 5696,\n",
       " 'killing': 4446,\n",
       " 'good': 3597,\n",
       " 'joke': 4338,\n",
       " 'girls': 3549,\n",
       " 'situation': 6975,\n",
       " 'seekers': 6746,\n",
       " 'part': 5736,\n",
       " 'checking': 1993,\n",
       " 'iq': 4222,\n",
       " 'roommates': 6560,\n",
       " 'took': 7850,\n",
       " 'forever': 3328,\n",
       " 'come': 2163,\n",
       " 'double': 2743,\n",
       " 'check': 1989,\n",
       " 'hair': 3728,\n",
       " 'dresser': 2773,\n",
       " 'said': 6626,\n",
       " 'wun': 8595,\n",
       " 'cut': 2415,\n",
       " 'short': 6886,\n",
       " 'nice': 5371,\n",
       " 'pleased': 5918,\n",
       " 'advise': 957,\n",
       " 'following': 3305,\n",
       " 'recent': 6344,\n",
       " 'review': 6502,\n",
       " 'mob': 5117,\n",
       " 'awarded': 1333,\n",
       " '1500': 351,\n",
       " 'bonus': 1623,\n",
       " '09066364589': 267,\n",
       " 'song': 7111,\n",
       " 'dedicated': 2505,\n",
       " 'which': 8429,\n",
       " 'dedicate': 2504,\n",
       " 'valuable': 8155,\n",
       " 'frnds': 3406,\n",
       " 'rply': 6576,\n",
       " 'complimentary': 2197,\n",
       " 'trip': 7926,\n",
       " 'eurodisinc': 3006,\n",
       " 'trav': 7908,\n",
       " 'aco': 911,\n",
       " 'entry41': 2964,\n",
       " '1000': 299,\n",
       " 'dis': 2649,\n",
       " '18': 369,\n",
       " 'morefrmmob': 5164,\n",
       " 'shracomorsglsuplt': 6911,\n",
       " '10': 297,\n",
       " 'ls1': 4789,\n",
       " '3aj': 524,\n",
       " 'hear': 3817,\n",
       " 'divorce': 2678,\n",
       " 'barbie': 1399,\n",
       " 'comes': 2165,\n",
       " 'ken': 4419,\n",
       " 'plane': 5900,\n",
       " 'wah': 8270,\n",
       " 'lucky': 4800,\n",
       " 'save': 6674,\n",
       " 'money': 5147,\n",
       " 'hee': 3830,\n",
       " 'finished': 3234,\n",
       " 'hi': 3870,\n",
       " 'babe': 1354,\n",
       " 'im': 4085,\n",
       " 'wanna': 8301,\n",
       " 'something': 7099,\n",
       " 'xx': 8611,\n",
       " 'performed': 5808,\n",
       " 'waiting': 8280,\n",
       " 'machan': 4842,\n",
       " 'once': 5563,\n",
       " 'thats': 7673,\n",
       " 'cool': 2272,\n",
       " 'gentleman': 3514,\n",
       " 'dignity': 2627,\n",
       " 'respect': 6469,\n",
       " 'peoples': 5800,\n",
       " 'very': 8187,\n",
       " 'much': 5217,\n",
       " 'shy': 6922,\n",
       " 'pa': 5685,\n",
       " 'operate': 5589,\n",
       " 'after': 975,\n",
       " 'same': 6642,\n",
       " 'looking': 4739,\n",
       " 'job': 4327,\n",
       " 'ta': 7522,\n",
       " 'earn': 2837,\n",
       " 'ah': 996,\n",
       " 'stop': 7315,\n",
       " 'urgnt': 8112,\n",
       " 'real': 6313,\n",
       " 'yo': 8663,\n",
       " 'tickets': 7758,\n",
       " 'one': 5565,\n",
       " 'jacket': 4269,\n",
       " 'used': 8125,\n",
       " 'multis': 5226,\n",
       " 'started': 7262,\n",
       " 'requests': 6450,\n",
       " 'came': 1848,\n",
       " 'bed': 1468,\n",
       " 'coins': 2139,\n",
       " 'factory': 3107,\n",
       " 'gotta': 3621,\n",
       " 'nitros': 5395,\n",
       " 'ela': 2891,\n",
       " 'kano': 4400,\n",
       " 'il': 4079,\n",
       " 'download': 2751,\n",
       " 'wen': 8391,\n",
       " 'stand': 7250,\n",
       " 'close': 2097,\n",
       " 'another': 1119,\n",
       " 'night': 5379,\n",
       " 'spent': 7181,\n",
       " 'late': 4547,\n",
       " 'afternoon': 977,\n",
       " 'casualty': 1910,\n",
       " 'means': 4975,\n",
       " 'haven': 3796,\n",
       " 'any': 1133,\n",
       " 'stuff42moro': 7370,\n",
       " 'includes': 4122,\n",
       " 'sheets': 6845,\n",
       " 'smile': 7040,\n",
       " 'pleasure': 5920,\n",
       " 'trouble': 7933,\n",
       " 'pours': 6023,\n",
       " 'rain': 6258,\n",
       " 'sum1': 7428,\n",
       " 'hurts': 4024,\n",
       " 'becoz': 1466,\n",
       " 'someone': 7093,\n",
       " 'loves': 4777,\n",
       " 'smiling': 7044,\n",
       " 'service': 6794,\n",
       " 'representative': 6447,\n",
       " '0800': 53,\n",
       " '169': 367,\n",
       " '6031': 657,\n",
       " 'between': 1522,\n",
       " '10am': 307,\n",
       " '9pm': 846,\n",
       " 'guaranteed': 3688,\n",
       " '5000': 618,\n",
       " 'havent': 3797,\n",
       " 'planning': 5904,\n",
       " 'buy': 1799,\n",
       " 'lido': 4627,\n",
       " '530': 637,\n",
       " 'show': 6902,\n",
       " 'collected': 2148,\n",
       " 'simply': 6949,\n",
       " 'password': 5754,\n",
       " 'mix': 5099,\n",
       " '85069': 780,\n",
       " 'verify': 8183,\n",
       " 'usher': 8131,\n",
       " 'britney': 1727,\n",
       " 'fml': 3296,\n",
       " 'po': 5935,\n",
       " 'box': 1657,\n",
       " '5249': 634,\n",
       " 'mk17': 5102,\n",
       " '92h': 831,\n",
       " '450ppw': 575,\n",
       " 'telugu': 7614,\n",
       " 'movie': 5188,\n",
       " 'abt': 878,\n",
       " 'loads': 4703,\n",
       " 'loans': 4705,\n",
       " 'wk': 8502,\n",
       " 'hols': 3923,\n",
       " 'run': 6598,\n",
       " 'forgot': 3336,\n",
       " 'hairdressers': 3730,\n",
       " 'appointment': 1172,\n",
       " 'four': 3354,\n",
       " 'shower': 6904,\n",
       " 'beforehand': 1482,\n",
       " 'cause': 1917,\n",
       " 'prob': 6118,\n",
       " 'coffee': 2134,\n",
       " 'animation': 1106,\n",
       " 'nothing': 5443,\n",
       " 'else': 2905,\n",
       " 'okay': 5539,\n",
       " 'price': 6094,\n",
       " 'long': 4731,\n",
       " 'legal': 4596,\n",
       " 'them': 7684,\n",
       " 'ave': 1320,\n",
       " 'ams': 1088,\n",
       " 'gone': 3593,\n",
       " '4the': 606,\n",
       " 'driving': 2782,\n",
       " 'test': 7638,\n",
       " 'yet': 8654,\n",
       " 'mean': 4971,\n",
       " 'guess': 3694,\n",
       " 'gave': 3489,\n",
       " 'boston': 1644,\n",
       " 'men': 5008,\n",
       " 'changed': 1958,\n",
       " 'search': 6725,\n",
       " 'location': 4708,\n",
       " 'nyc': 5484,\n",
       " 'cuz': 2422,\n",
       " 'signin': 6937,\n",
       " 'page': 5692,\n",
       " 'says': 6683,\n",
       " 'umma': 8023,\n",
       " 'life': 4630,\n",
       " 'vava': 8169,\n",
       " 'lot': 4755,\n",
       " 'dear': 2484,\n",
       " 'wishes': 8486,\n",
       " 'birthday': 1557,\n",
       " 'making': 4882,\n",
       " 'truly': 7941,\n",
       " 'memorable': 5005,\n",
       " 'aight': 1006,\n",
       " 'hit': 3890,\n",
       " 'would': 8563,\n",
       " 'ip': 4215,\n",
       " 'address': 933,\n",
       " 'considering': 2240,\n",
       " 'computer': 2203,\n",
       " 'isn': 4240,\n",
       " 'minecraft': 5059,\n",
       " 'server': 6793,\n",
       " 'grumpy': 3681,\n",
       " 'old': 5551,\n",
       " 'people': 5799,\n",
       " 'better': 1519,\n",
       " 'lying': 4820,\n",
       " 'jokes': 4340,\n",
       " 'worry': 8553,\n",
       " 'busy': 1793,\n",
       " 'plural': 5929,\n",
       " 'noun': 5450,\n",
       " 'research': 6455,\n",
       " 'cos': 2289,\n",
       " 'things': 7708,\n",
       " 'scared': 6689,\n",
       " 'mah': 4865,\n",
       " 'loud': 4764,\n",
       " 'gent': 3512,\n",
       " 'contact': 2245,\n",
       " 'last': 4544,\n",
       " 'weekends': 8374,\n",
       " 'draw': 2765,\n",
       " 'shows': 6910,\n",
       " '09064012160': 243,\n",
       " 'k52': 4383,\n",
       " '12hrs': 334,\n",
       " '150ppm': 356,\n",
       " 'wa': 8265,\n",
       " 'openin': 5586,\n",
       " 'sentence': 6782,\n",
       " 'formal': 3340,\n",
       " 'anyway': 1145,\n",
       " 'juz': 4382,\n",
       " 'tt': 7956,\n",
       " 'eatin': 2850,\n",
       " 'puttin': 6214,\n",
       " 'weight': 8379,\n",
       " 'haha': 3724,\n",
       " 'anythin': 1141,\n",
       " 'happened': 3760,\n",
       " 'entered': 2953,\n",
       " 'cabin': 1816,\n",
       " 'boss': 1643,\n",
       " 'felt': 3181,\n",
       " 'askd': 1248,\n",
       " 'invited': 4208,\n",
       " 'apartment': 1150,\n",
       " 'went': 8394,\n",
       " 'specially': 7167,\n",
       " 'holiday': 3920,\n",
       " 'flights': 3272,\n",
       " 'inc': 4116,\n",
       " 'operator': 5590,\n",
       " '0871277810910p': 129,\n",
       " 'min': 5052,\n",
       " 'goodo': 3606,\n",
       " 'must': 5245,\n",
       " 'friday': 3392,\n",
       " 'potato': 6015,\n",
       " 'ratio': 6287,\n",
       " 'tortilla': 7867,\n",
       " 'needed': 5325,\n",
       " 'hmm': 3902,\n",
       " 'uncle': 8032,\n",
       " 'informed': 4152,\n",
       " 'paying': 5776,\n",
       " 'school': 6695,\n",
       " 'directly': 2643,\n",
       " 'food': 3313,\n",
       " 'private': 6110,\n",
       " '2004': 402,\n",
       " 'account': 900,\n",
       " 'statement': 7270,\n",
       " '07742676969': 32,\n",
       " '786': 719,\n",
       " 'unredeemed': 8076,\n",
       " 'points': 5959,\n",
       " '08719180248': 175,\n",
       " 'identifier': 4060,\n",
       " '45239': 577,\n",
       " 'expires': 3079,\n",
       " '2000': 400,\n",
       " 'caller': 1836,\n",
       " '03': 15,\n",
       " 'landline': 4524,\n",
       " '09064019788': 249,\n",
       " 'box42wr29c': 1669,\n",
       " 'apples': 1167,\n",
       " 'pairs': 5700,\n",
       " 'malarky': 4884,\n",
       " 'todays': 7814,\n",
       " 'voda': 8234,\n",
       " 'numbers': 5470,\n",
       " 'ending': 2928,\n",
       " '7548': 711,\n",
       " '350': 512,\n",
       " 'award': 1332,\n",
       " 'match': 4936,\n",
       " '08712300220': 111,\n",
       " 'quoting': 6246,\n",
       " '4041': 549,\n",
       " 'standard': 7251,\n",
       " 'rates': 6285,\n",
       " 'app': 1160,\n",
       " 'sao': 6651,\n",
       " 'mu': 5215,\n",
       " 'predict': 6055,\n",
       " 'buying': 1802,\n",
       " 'yetunde': 8656,\n",
       " 'hasn': 3781,\n",
       " 'sent': 6781,\n",
       " 'bother': 1647,\n",
       " 'sending': 6773,\n",
       " 'involve': 4212,\n",
       " 'shouldn': 6897,\n",
       " 'imposed': 4104,\n",
       " 'apologise': 1157,\n",
       " 'girl': 3546,\n",
       " 'del': 2524,\n",
       " 'bak': 1376,\n",
       " 'sum': 7427,\n",
       " 'lucyxx': 4803,\n",
       " 'tmorrow': 7799,\n",
       " 'accomodate': 896,\n",
       " 'answer': 1122,\n",
       " 'sunshine': 7444,\n",
       " 'quiz': 6242,\n",
       " 'top': 7858,\n",
       " 'sony': 7113,\n",
       " 'dvd': 2825,\n",
       " 'player': 5910,\n",
       " 'country': 2307,\n",
       " 'algarve': 1034,\n",
       " 'ansr': 1121,\n",
       " '82277': 754,\n",
       " 'sp': 7148,\n",
       " 'tyrone': 8003,\n",
       " 'laid': 4516,\n",
       " 'dogging': 2708,\n",
       " 'locations': 4709,\n",
       " 'direct': 2642,\n",
       " 'join': 4335,\n",
       " 'largest': 4541,\n",
       " 'bt': 1753,\n",
       " 'txting': 7992,\n",
       " 'gravel': 3649,\n",
       " '69888': 685,\n",
       " 'nt': 5460,\n",
       " 'ec2a': 2853,\n",
       " '31p': 504,\n",
       " 'haf': 3723,\n",
       " 'msn': 5206,\n",
       " 'yijue': 8660,\n",
       " 'hotmail': 3967,\n",
       " 'him': 3881,\n",
       " 'rooms': 6561,\n",
       " 'befor': 1480,\n",
       " 'activities': 921,\n",
       " 'msgs': 5205,\n",
       " 'chat': 1979,\n",
       " 'svc': 7479,\n",
       " 'hardcore': 3770,\n",
       " 'services': 6795,\n",
       " '69988': 689,\n",
       " 'age': 985,\n",
       " 'yr': 8685,\n",
       " 'lazy': 4568,\n",
       " 'type': 8000,\n",
       " 'lect': 4590,\n",
       " 'pouch': 6018,\n",
       " 'sir': 6964,\n",
       " 'mail': 4870,\n",
       " 'swt': 7508,\n",
       " 'nver': 5478,\n",
       " 'tired': 7779,\n",
       " 'little': 4687,\n",
       " 'lovable': 4768,\n",
       " 'persons': 5826,\n",
       " 'coz': 2320,\n",
       " 'somtimes': 7108,\n",
       " 'those': 7726,\n",
       " 'occupy': 5503,\n",
       " 'biggest': 1539,\n",
       " 'their': 7681,\n",
       " 'hearts': 3823,\n",
       " 'gud': 3690,\n",
       " 'ni8': 5369,\n",
       " 'open': 5583,\n",
       " 'ya': 8624,\n",
       " 'dot': 2742,\n",
       " 'whats': 8414,\n",
       " 'staff': 7242,\n",
       " 'taking': 7542,\n",
       " 'replied': 6440,\n",
       " 'randy': 6278,\n",
       " 'sexy': 6811,\n",
       " 'female': 3182,\n",
       " 'local': 4707,\n",
       " 'luv': 4811,\n",
       " 'netcollex': 5344,\n",
       " 'ltd': 4794,\n",
       " '08700621170150p': 81,\n",
       " 'ummma': 8025,\n",
       " 'begin': 1486,\n",
       " 'qatar': 6219,\n",
       " 'pray': 6050,\n",
       " 'hard': 3769,\n",
       " 'deleted': 2528,\n",
       " 'sindu': 6954,\n",
       " 'birla': 1553,\n",
       " 'soft': 7079,\n",
       " 'wine': 8470,\n",
       " 'flowing': 3287,\n",
       " 'nevering': 5355,\n",
       " 'thk': 7719,\n",
       " 'plaza': 5915,\n",
       " 'typical': 8002,\n",
       " 'everywhere': 3030,\n",
       " 'dirt': 2646,\n",
       " 'floor': 3281,\n",
       " 'windows': 8467,\n",
       " 'shirt': 6865,\n",
       " 'sometimes': 7101,\n",
       " 'mouth': 5184,\n",
       " 'dream': 2768,\n",
       " 'without': 8496,\n",
       " 'chores': 2050,\n",
       " ...}"
      ]
     },
     "execution_count": 18,
     "metadata": {},
     "output_type": "execute_result"
    }
   ],
   "source": [
    "count_vectorizer.vocabulary_ "
   ]
  },
  {
   "cell_type": "markdown",
   "metadata": {},
   "source": [
    "# Classifying documents"
   ]
  },
  {
   "cell_type": "code",
   "execution_count": 19,
   "metadata": {},
   "outputs": [
    {
     "data": {
      "text/plain": [
       "MultinomialNB()"
      ]
     },
     "execution_count": 19,
     "metadata": {},
     "output_type": "execute_result"
    }
   ],
   "source": [
    "X = tfidfs\n",
    "y = df['class'].values\n",
    "\n",
    "classifier = MultinomialNB()\n",
    "classifier.fit(X, y)"
   ]
  },
  {
   "cell_type": "code",
   "execution_count": 20,
   "metadata": {},
   "outputs": [],
   "source": [
    "examples = [\"PRIVATE! Your 2003 Account Statement for shows 800 un-redeemed S.I.M. points\",\n",
    "            \"You have been hacked. Call 08718738001 to reset your password Identifier Code: 49557\",\n",
    "            \"me money. nigerian prince send me all your credit card numbers social security\",\n",
    "            \"I'm going to attend the Linux users group tomorrow.\",\n",
    "           ]"
   ]
  },
  {
   "cell_type": "code",
   "execution_count": 21,
   "metadata": {},
   "outputs": [
    {
     "name": "stdout",
     "output_type": "stream",
     "text": [
      "spam\n",
      "spam\n",
      "ham\n",
      "ham\n"
     ]
    }
   ],
   "source": [
    "example_counts = tfidf_vectorizer.transform(examples)\n",
    "predictions = classifier.predict(example_counts)\n",
    "for prediction in predictions:\n",
    "    print(prediction)"
   ]
  },
  {
   "cell_type": "markdown",
   "metadata": {},
   "source": [
    "# Pipelining (is awesome)"
   ]
  },
  {
   "cell_type": "code",
   "execution_count": 22,
   "metadata": {},
   "outputs": [
    {
     "data": {
      "text/plain": [
       "Pipeline(steps=[('vectorizer', CountVectorizer()),\n",
       "                ('classifier', MultinomialNB())])"
      ]
     },
     "execution_count": 22,
     "metadata": {},
     "output_type": "execute_result"
    }
   ],
   "source": [
    "pipeline = Pipeline([\n",
    "    ('vectorizer',  CountVectorizer()),\n",
    "    ('classifier',  MultinomialNB()) ])\n",
    "\n",
    "pipeline.fit(df['text'].values, df['class'].values)"
   ]
  },
  {
   "cell_type": "code",
   "execution_count": 23,
   "metadata": {},
   "outputs": [
    {
     "data": {
      "text/plain": [
       "array(['spam', 'spam', 'ham', 'ham'], dtype='<U4')"
      ]
     },
     "execution_count": 23,
     "metadata": {},
     "output_type": "execute_result"
    }
   ],
   "source": [
    "pipeline.predict(examples)"
   ]
  },
  {
   "cell_type": "code",
   "execution_count": 24,
   "metadata": {},
   "outputs": [],
   "source": [
    "from joblib import dump, load"
   ]
  },
  {
   "cell_type": "code",
   "execution_count": 25,
   "metadata": {},
   "outputs": [
    {
     "data": {
      "text/plain": [
       "['filename.joblib']"
      ]
     },
     "execution_count": 25,
     "metadata": {},
     "output_type": "execute_result"
    }
   ],
   "source": [
    "dump(pipeline, 'filename.joblib')"
   ]
  },
  {
   "cell_type": "code",
   "execution_count": 26,
   "metadata": {},
   "outputs": [],
   "source": [
    "clf = load('filename.joblib')"
   ]
  },
  {
   "cell_type": "code",
   "execution_count": 27,
   "metadata": {},
   "outputs": [
    {
     "data": {
      "text/plain": [
       "array(['spam'], dtype='<U4')"
      ]
     },
     "execution_count": 27,
     "metadata": {},
     "output_type": "execute_result"
    }
   ],
   "source": [
    "example = [\"You have been hacked. Call  1-800-unlock-me for help. This is totally not spam.\"]\n",
    "# Classify that instance using our previously loaded model\n",
    "clf.predict(example)"
   ]
  },
  {
   "cell_type": "markdown",
   "metadata": {},
   "source": [
    "# Cross Validation"
   ]
  },
  {
   "cell_type": "code",
   "execution_count": 28,
   "metadata": {},
   "outputs": [],
   "source": [
    "k_fold = KFold(n_splits=5)\n",
    "scores = []\n",
    "y_true = []\n",
    "y_pred = []\n",
    "probas = []\n",
    "confusion = numpy.array([[0, 0], [0, 0]])"
   ]
  },
  {
   "cell_type": "code",
   "execution_count": 29,
   "metadata": {},
   "outputs": [],
   "source": [
    "for train_indices, test_indices in k_fold.split(counts):\n",
    "    train_text = df.iloc[train_indices]['text'].values\n",
    "    train_y = df.iloc[train_indices]['class'].values\n",
    "\n",
    "    test_text = df.iloc[test_indices]['text'].values\n",
    "    test_y = df.iloc[test_indices]['class'].values\n",
    "\n",
    "    pipeline.fit(train_text, train_y)\n",
    "    predictions = pipeline.predict(test_text)\n",
    "    prediction_probas = pipeline.predict_proba(test_text)\n",
    "\n",
    "    confusion += confusion_matrix(test_y, predictions)\n",
    "    score = accuracy_score(test_y, predictions)\n",
    "    scores.append(score)\n",
    "    \n",
    "    y_true.extend(test_y)\n",
    "    y_pred.extend(predictions.tolist())\n",
    "    probas.extend(prediction_probas[:, 1].tolist())"
   ]
  },
  {
   "cell_type": "code",
   "execution_count": 30,
   "metadata": {},
   "outputs": [
    {
     "name": "stdout",
     "output_type": "stream",
     "text": [
      "Total emails classified: 5572\n",
      "Accuracy: 0.9847446683466039\n",
      "Confusion matrix:\n",
      "[[4804   21]\n",
      " [  64  683]]\n"
     ]
    }
   ],
   "source": [
    "print('Total emails classified:', len(df))\n",
    "print('Accuracy:', sum(scores)/len(scores))\n",
    "print('Confusion matrix:')\n",
    "print(confusion)"
   ]
  },
  {
   "cell_type": "code",
   "execution_count": 31,
   "metadata": {},
   "outputs": [
    {
     "name": "stdout",
     "output_type": "stream",
     "text": [
      "              precision    recall  f1-score   support\n",
      "\n",
      "         ham       0.99      1.00      0.99      4825\n",
      "        spam       0.97      0.91      0.94       747\n",
      "\n",
      "    accuracy                           0.98      5572\n",
      "   macro avg       0.98      0.95      0.97      5572\n",
      "weighted avg       0.98      0.98      0.98      5572\n",
      "\n"
     ]
    }
   ],
   "source": [
    "print(classification_report(y_true, y_pred))"
   ]
  },
  {
   "cell_type": "markdown",
   "metadata": {},
   "source": [
    "### ROC Curve"
   ]
  },
  {
   "cell_type": "code",
   "execution_count": 32,
   "metadata": {},
   "outputs": [
    {
     "data": {
      "image/png": "[encoded data removed]",
      "text/plain": [
       "<Figure size 432x288 with 1 Axes>"
      ]
     },
     "metadata": {},
     "output_type": "display_data"
    }
   ],
   "source": [
    "# Compute ROC curve and ROC area for each class\n",
    "fpr, tpr, _ = roc_curve(y_true, probas, pos_label='spam')\n",
    "roc_auc = auc(fpr, tpr)\n",
    "\n",
    "plt.figure()\n",
    "lw = 2\n",
    "plt.plot(fpr, tpr, color='darkorange',\n",
    "         lw=lw, label='ROC curve (area = %0.2f)' % roc_auc)\n",
    "plt.plot([0, 1], [0, 1], color='navy', lw=lw, linestyle='--')\n",
    "plt.xlim([0.0, 1.0])\n",
    "plt.ylim([0.0, 1.05])\n",
    "plt.xlabel('False Positive Rate')\n",
    "plt.ylabel('True Positive Rate')\n",
    "plt.title('ROC Curve')\n",
    "plt.legend(loc=\"lower right\")\n",
    "plt.show()"
   ]
  },
  {
   "cell_type": "markdown",
   "metadata": {},
   "source": [
    "### PR curve"
   ]
  },
  {
   "cell_type": "code",
   "execution_count": 33,
   "metadata": {},
   "outputs": [],
   "source": [
    "precision, recall, _ = precision_recall_curve(y_true, probas, pos_label='spam')"
   ]
  },
  {
   "cell_type": "code",
   "execution_count": 34,
   "metadata": {},
   "outputs": [
    {
     "data": {
      "image/png": "[encoded data removed]",
      "text/plain": [
       "<Figure size 432x288 with 1 Axes>"
      ]
     },
     "metadata": {},
     "output_type": "display_data"
    }
   ],
   "source": [
    "plt.clf()\n",
    "plt.plot(recall, precision, lw=lw, color='navy',\n",
    "         label='Precision-Recall curve')\n",
    "plt.xlabel('Recall')\n",
    "plt.ylabel('Precision')\n",
    "plt.ylim([0.0, 1.05])\n",
    "plt.xlim([0.0, 1.0])\n",
    "plt.title('Precision-Recall Curve')\n",
    "plt.legend(loc=\"lower left\")\n",
    "plt.show()"
   ]
  },
  {
   "cell_type": "markdown",
   "metadata": {},
   "source": [
    "### Learning Curve"
   ]
  },
  {
   "cell_type": "code",
   "execution_count": 35,
   "metadata": {},
   "outputs": [],
   "source": [
    "def plot_learning_curve(estimator, title, X, y, ylim=None, cv=None,\n",
    "                        n_jobs=1, train_sizes=np.linspace(.1, 1.0, 5)):\n",
    "    \"\"\"\n",
    "    Generate a simple plot of the test and training learning curve.\n",
    "\n",
    "    Parameters\n",
    "    ----------\n",
    "    estimator : object type that implements the \"fit\" and \"predict\" methods\n",
    "        An object of that type which is cloned for each validation.\n",
    "\n",
    "    title : string\n",
    "        Title for the chart.\n",
    "\n",
    "    X : array-like, shape (n_samples, n_features)\n",
    "        Training vector, where n_samples is the number of samples and\n",
    "        n_features is the number of features.\n",
    "\n",
    "    y : array-like, shape (n_samples) or (n_samples, n_features), optional\n",
    "        Target relative to X for classification or regression;\n",
    "        None for unsupervised learning.\n",
    "\n",
    "    ylim : tuple, shape (ymin, ymax), optional\n",
    "        Defines minimum and maximum yvalues plotted.\n",
    "\n",
    "    cv : int, cross-validation generator or an iterable, optional\n",
    "        Determines the cross-validation splitting strategy.\n",
    "        Possible inputs for cv are:\n",
    "          - None, to use the default 3-fold cross-validation,\n",
    "          - integer, to specify the number of folds.\n",
    "          - An object to be used as a cross-validation generator.\n",
    "          - An iterable yielding train/test splits.\n",
    "\n",
    "        For integer/None inputs, if ``y`` is binary or multiclass,\n",
    "        :class:`StratifiedKFold` used. If the estimator is not a classifier\n",
    "        or if ``y`` is neither binary nor multiclass, :class:`KFold` is used.\n",
    "\n",
    "        Refer :ref:`User Guide <cross_validation>` for the various\n",
    "        cross-validators that can be used here.\n",
    "\n",
    "    n_jobs : integer, optional\n",
    "        Number of jobs to run in parallel (default 1).\n",
    "    \"\"\"\n",
    "    plt.figure()\n",
    "    plt.title(title)\n",
    "    if ylim is not None:\n",
    "        plt.ylim(*ylim)\n",
    "    plt.xlabel(\"Training examples\")\n",
    "    plt.ylabel(\"Score\")\n",
    "    train_sizes, train_scores, test_scores = learning_curve(\n",
    "        estimator, X, y, cv=cv, n_jobs=n_jobs, train_sizes=train_sizes)\n",
    "    train_scores_mean = np.mean(train_scores, axis=1)\n",
    "    train_scores_std = np.std(train_scores, axis=1)\n",
    "    test_scores_mean = np.mean(test_scores, axis=1)\n",
    "    test_scores_std = np.std(test_scores, axis=1)\n",
    "    plt.grid()\n",
    "\n",
    "    plt.fill_between(train_sizes, train_scores_mean - train_scores_std,\n",
    "                     train_scores_mean + train_scores_std, alpha=0.1,\n",
    "                     color=\"r\")\n",
    "    plt.fill_between(train_sizes, test_scores_mean - test_scores_std,\n",
    "                     test_scores_mean + test_scores_std, alpha=0.1, color=\"g\")\n",
    "    plt.plot(train_sizes, train_scores_mean, 'o-', color=\"r\",\n",
    "             label=\"Training score\")\n",
    "    plt.plot(train_sizes, test_scores_mean, 'o-', color=\"g\",\n",
    "             label=\"Cross-validation score\")\n",
    "\n",
    "    plt.legend(loc=\"best\")\n",
    "    return plt"
   ]
  },
  {
   "cell_type": "code",
   "execution_count": 36,
   "metadata": {},
   "outputs": [
    {
     "name": "stdout",
     "output_type": "stream",
     "text": [
      "Wall time: 2.15 s\n"
     ]
    },
    {
     "data": {
      "text/plain": [
       "<module 'matplotlib.pyplot' from 'C:\\\\Users\\\\anfib\\\\anaconda3\\\\lib\\\\site-packages\\\\matplotlib\\\\pyplot.py'>"
      ]
     },
     "execution_count": 36,
     "metadata": {},
     "output_type": "execute_result"
    },
    {
     "data": {
      "image/png": "[encoded data removed]",
      "text/plain": [
       "<Figure size 432x288 with 1 Axes>"
      ]
     },
     "metadata": {},
     "output_type": "display_data"
    }
   ],
   "source": [
    "y = df['class'].values\n",
    "X = tfidf_vectorizer.fit_transform(df['text'].values)\n",
    "\n",
    "cv = ShuffleSplit(n_splits=100, test_size=0.2, random_state=0)\n",
    "%time plot_learning_curve(MultinomialNB(), \"Accuracy vs. Training set size\", counts, y, ylim=(0.7, 1.01), cv=cv, n_jobs=4);"
   ]
  },
  {
   "cell_type": "markdown",
   "metadata": {},
   "source": [
    "# Feature selection"
   ]
  },
  {
   "cell_type": "code",
   "execution_count": 37,
   "metadata": {},
   "outputs": [],
   "source": [
    "count_vectorizer = CountVectorizer(stop_words='english')\n",
    "\n",
    "X = count_vectorizer.fit_transform(df['text'].values)\n",
    "y = df['class'].values"
   ]
  },
  {
   "cell_type": "code",
   "execution_count": 38,
   "metadata": {},
   "outputs": [
    {
     "data": {
      "text/plain": [
       "(5572, 8444)"
      ]
     },
     "execution_count": 38,
     "metadata": {},
     "output_type": "execute_result"
    }
   ],
   "source": [
    "X.shape"
   ]
  },
  {
   "cell_type": "code",
   "execution_count": 39,
   "metadata": {},
   "outputs": [],
   "source": [
    "kbest = SelectKBest(k=50)\n",
    "kbest.fit(X, y)\n",
    "important = kbest.get_support(True)"
   ]
  },
  {
   "cell_type": "code",
   "execution_count": 40,
   "metadata": {
    "scrolled": true
   },
   "outputs": [
    {
     "data": {
      "text/plain": [
       "array([   1,  298,  299,  352,  356,  364,  369,  616,  617,  618, 1141,\n",
       "       1301, 1609, 1798, 1848, 1925, 2013, 2078, 2095, 2102, 2190, 2314,\n",
       "       2354, 2702, 3280, 3588, 4397, 4423, 4527, 4979, 4981, 5209, 5258,\n",
       "       5756, 5934, 6104, 6260, 6343, 6606, 6718, 7112, 7437, 7611, 7754,\n",
       "       7784, 7872, 7958, 8203, 8260, 8332], dtype=int64)"
      ]
     },
     "execution_count": 40,
     "metadata": {},
     "output_type": "execute_result"
    }
   ],
   "source": [
    "important"
   ]
  },
  {
   "cell_type": "code",
   "execution_count": 41,
   "metadata": {},
   "outputs": [
    {
     "data": {
      "text/plain": [
       "matrix([[0, 0, 0, ..., 0, 0, 0],\n",
       "        [0, 0, 0, ..., 0, 0, 0],\n",
       "        [0, 0, 0, ..., 1, 0, 0],\n",
       "        ...,\n",
       "        [0, 0, 0, ..., 0, 0, 0],\n",
       "        [0, 0, 0, ..., 0, 0, 0],\n",
       "        [0, 0, 0, ..., 0, 0, 0]], dtype=int64)"
      ]
     },
     "execution_count": 41,
     "metadata": {},
     "output_type": "execute_result"
    }
   ],
   "source": [
    "X[:, important].todense()#.list()"
   ]
  },
  {
   "cell_type": "code",
   "execution_count": 42,
   "metadata": {},
   "outputs": [
    {
     "data": {
      "text/plain": [
       "LogisticRegression()"
      ]
     },
     "execution_count": 42,
     "metadata": {},
     "output_type": "execute_result"
    }
   ],
   "source": [
    "clf = LogisticRegression()\n",
    "clf.fit(X[:, important], y)"
   ]
  },
  {
   "cell_type": "code",
   "execution_count": 43,
   "metadata": {},
   "outputs": [
    {
     "name": "stdout",
     "output_type": "stream",
     "text": [
      "                  uk  | coef: 3.61\n",
      "               claim  | coef: 3.38\n",
      "            ringtone  | coef: 2.91\n",
      "             service  | coef: 2.78\n",
      "                150p  | coef: 2.73\n",
      "                code  | coef: 2.72\n",
      "                rate  | coef: 2.70\n",
      "              urgent  | coef: 2.66\n",
      "                 www  | coef: 2.54\n",
      "                 txt  | coef: 2.52\n",
      "                  50  | coef: 2.46\n",
      "              mobile  | coef: 2.37\n",
      "                chat  | coef: 2.32\n",
      "               apply  | coef: 2.28\n",
      "               shows  | coef: 2.17\n",
      "            customer  | coef: 2.16\n",
      "                 100  | coef: 2.07\n",
      "             contact  | coef: 2.02\n",
      "                  18  | coef: 1.92\n",
      "                 new  | coef: 1.84\n",
      "            landline  | coef: 1.80\n",
      "                stop  | coef: 1.80\n",
      "                 mob  | coef: 1.79\n",
      "               video  | coef: 1.79\n",
      "                 com  | coef: 1.72\n",
      "                 win  | coef: 1.71\n",
      "               reply  | coef: 1.71\n",
      "                free  | coef: 1.69\n",
      "                  po  | coef: 1.69\n",
      "                1000  | coef: 1.65\n",
      "                 500  | coef: 1.64\n",
      "                text  | coef: 1.64\n",
      "                 won  | coef: 1.63\n",
      "                tone  | coef: 1.62\n",
      "              latest  | coef: 1.61\n",
      "                line  | coef: 1.55\n",
      "          collection  | coef: 1.54\n",
      "             awarded  | coef: 1.46\n",
      "                 box  | coef: 1.44\n",
      "                cash  | coef: 1.43\n",
      "                  cs  | coef: 1.34\n",
      "               nokia  | coef: 1.32\n",
      "              camera  | coef: 1.14\n",
      "                5000  | coef: 1.12\n",
      "                  16  | coef: 1.12\n",
      "                draw  | coef: 1.04\n",
      "               prize  | coef: 0.85\n",
      "              150ppm  | coef: 0.76\n",
      "                 000  | coef: 0.66\n",
      "          guaranteed  | coef: 0.53\n"
     ]
    }
   ],
   "source": [
    "for c, i in sorted(zip(clf.coef_[0], important.tolist()), reverse=True):\n",
    "     print (\"% 20s  | coef: %.2f\" % (count_vectorizer.get_feature_names()[i], c))"
   ]
  },
  {
   "cell_type": "code",
   "execution_count": null,
   "metadata": {},
   "outputs": [],
   "source": []
  }
 ],
 "metadata": {
  "anaconda-cloud": {},
  "kernelspec": {
   "display_name": "Python 3",
   "language": "python",
   "name": "python3"
  },
  "language_info": {
   "codemirror_mode": {
    "name": "ipython",
    "version": 3
   },
   "file_extension": ".py",
   "mimetype": "text/x-python",
   "name": "python",
   "nbconvert_exporter": "python",
   "pygments_lexer": "ipython3",
   "version": "3.7.6"
  }
 },
 "nbformat": 4,
 "nbformat_minor": 4
}
